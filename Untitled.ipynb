{
 "cells": [
  {
   "cell_type": "code",
   "execution_count": 3,
   "metadata": {},
   "outputs": [],
   "source": [
    "from imagededup.retrieval import ResultSet\n",
    "from imagededup.hashing import Hashing\n",
    "from imagededup.retrieval import CosEval\n",
    "from mock import patch\n",
    "import os\n",
    "import numpy as np"
   ]
  },
  {
   "cell_type": "code",
   "execution_count": 2,
   "metadata": {},
   "outputs": [
    {
     "name": "stderr",
     "output_type": "stream",
     "text": [
      "2019-06-26 14:49:57,540 imagededup.retrieval: INFO Start: Retrieving duplicates using BKTree algorithm\n"
     ]
    }
   ],
   "source": [
    "dummy_query={'ukbench00120.jpg': '2b69707551f1b87a', 'ukbench09268.jpg': 'ac9c72f8e1c2c448'}\n",
    "dummy_db = {\n",
    "    'ukbench00120_hflip.jpg': '2b69f1517570e2a1',\n",
    "    'ukbench00120_resize.jpg': '2b69707551f1b87a',\n",
    "    'ukbench09268.jpg': 'ac9c72f8e1c2c448'\n",
    "}\n",
    "dummy_hasher = Hashing()\n",
    "dummy_result = ResultSet(dummy_db, dummy_query, dummy_hasher.hamming_distance)"
   ]
  },
  {
   "cell_type": "code",
   "execution_count": 6,
   "metadata": {},
   "outputs": [
    {
     "data": {
      "text/plain": [
       "{'2b69707551f1b87a': {'ukbench00120_resize.jpg': 0},\n",
       " 'ac9c72f8e1c2c448': {'ukbench09268.jpg': 0}}"
      ]
     },
     "execution_count": 6,
     "metadata": {},
     "output_type": "execute_result"
    }
   ],
   "source": [
    "res = dummy_result.retrieve_results()\n",
    "res"
   ]
  },
  {
   "cell_type": "code",
   "execution_count": 15,
   "metadata": {},
   "outputs": [
    {
     "data": {
      "text/plain": [
       "[0, 0]"
      ]
     },
     "execution_count": 15,
     "metadata": {},
     "output_type": "execute_result"
    }
   ],
   "source": [
    "res = dummy_result.retrieve_results()\n",
    "dummy_distances = [max(res[dist].values()) for dist in res]\n",
    "dummy_distances"
   ]
  },
  {
   "cell_type": "code",
   "execution_count": 13,
   "metadata": {},
   "outputs": [
    {
     "data": {
      "text/plain": [
       "0"
      ]
     },
     "execution_count": 13,
     "metadata": {},
     "output_type": "execute_result"
    }
   ],
   "source": [
    "max(list(res['2b69707551f1b87a'].values()))"
   ]
  },
  {
   "cell_type": "code",
   "execution_count": 1,
   "metadata": {},
   "outputs": [
    {
     "ename": "SyntaxError",
     "evalue": "invalid syntax (<ipython-input-1-6ea79b1ed8a0>, line 1)",
     "output_type": "error",
     "traceback": [
      "\u001b[0;36m  File \u001b[0;32m\"<ipython-input-1-6ea79b1ed8a0>\"\u001b[0;36m, line \u001b[0;32m1\u001b[0m\n\u001b[0;31m    def test_result_consistency_across_search_methods\u001b[0m\n\u001b[0m                                                     ^\u001b[0m\n\u001b[0;31mSyntaxError\u001b[0m\u001b[0;31m:\u001b[0m invalid syntax\n"
     ]
    }
   ],
   "source": [
    "def test_result_consistency_across_search_methods\n",
    "        dummy_query={'ukbench00120.jpg': '2b69707551f1b87a', 'ukbench09268.jpg': 'ac9c72f8e1c2c448'}):\n",
    "    dummy_db = {\n",
    "        'ukbench00120_hflip.jpg': '2b69f1517570e2a1',\n",
    "        'ukbench00120_resize.jpg': '2b69707551f1b87a',\n",
    "        'ukbench09268.jpg': 'ac9c72f8e1c2c448'\n",
    "    }\n",
    "    dummy_hasher = Hashing()\n",
    "    left_result = ResultSet(dummy_db, dummy_query, dummy_hasher.hamming_distance, search_method='brute_force').retrieve_results()\n",
    "    right_result = ResultSet(dummy_db, dummy_query, dummy_hasher.hamming_distance).retrieve_results()\n",
    "    assert left_result == right_result"
   ]
  },
  {
   "cell_type": "code",
   "execution_count": 6,
   "metadata": {},
   "outputs": [
    {
     "name": "stderr",
     "output_type": "stream",
     "text": [
      "2019-06-26 15:18:19,341 imagededup.retrieval: INFO Start: Retrieving duplicates using Brute force algorithm\n",
      "2019-06-26 15:18:19,341 imagededup.retrieval: INFO Start: Retrieving duplicates using Brute force algorithm\n",
      "2019-06-26 15:18:19,341 imagededup.retrieval: INFO Start: Retrieving duplicates using Brute force algorithm\n",
      "2019-06-26 15:18:19,346 imagededup.retrieval: INFO Start: Retrieving duplicates using BKTree algorithm\n",
      "2019-06-26 15:18:19,346 imagededup.retrieval: INFO Start: Retrieving duplicates using BKTree algorithm\n",
      "2019-06-26 15:18:19,346 imagededup.retrieval: INFO Start: Retrieving duplicates using BKTree algorithm\n",
      "2019-06-26 15:18:19,346 imagededup.retrieval: INFO Start: Retrieving duplicates using BKTree algorithm\n"
     ]
    }
   ],
   "source": [
    "dummy_query={'ukbench00120.jpg': '2b69707551f1b87a', 'ukbench09268.jpg': 'ac9c72f8e1c2c448'}\n",
    "dummy_db = {\n",
    "    'ukbench00120_hflip.jpg': '2b69f1517570e2a1',\n",
    "    'ukbench00120_resize.jpg': '2b69707551f1b87a',\n",
    "    'ukbench09268.jpg': 'ac9c72f8e1c2c448'\n",
    "}\n",
    "dummy_hasher = Hashing()\n",
    "    left_result = ResultSet(dummy_db, dummy_query, dummy_hasher.hamming_distance, search_method='brute_force').retrieve_results()\n",
    "    right_result = ResultSet(dummy_db, dummy_query, dummy_hasher.hamming_distance).retrieve_results()\n",
    "    assert left_result == right_result"
   ]
  }
 ],
 "metadata": {
  "kernelspec": {
   "display_name": "Python 3",
   "language": "python",
   "name": "python3"
  },
  "language_info": {
   "codemirror_mode": {
    "name": "ipython",
    "version": 3
   },
   "file_extension": ".py",
   "mimetype": "text/x-python",
   "name": "python",
   "nbconvert_exporter": "python",
   "pygments_lexer": "ipython3",
   "version": "3.6.4"
  }
 },
 "nbformat": 4,
 "nbformat_minor": 2
}
