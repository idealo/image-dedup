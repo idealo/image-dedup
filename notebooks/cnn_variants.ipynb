{
 "cells": [
  {
   "cell_type": "code",
   "execution_count": 41,
   "metadata": {},
   "outputs": [],
   "source": [
    "# import keras dependencies \n",
    "from keras.models import Model\n",
    "from keras.applications import MobileNet as CNN\n",
    "from keras.applications.mobilenet import preprocess_input\n",
    "from keras.layers import Flatten\n",
    "from keras.preprocessing.image import ImageDataGenerator\n",
    "import os\n",
    "import numpy as np\n",
    "from IPython.display import Image \n",
    "from PIL import Image\n",
    "import matplotlib.pyplot as plt\n",
    "import time\n",
    "import pickle\n",
    "import numpy as np\n",
    "from numpy.linalg import norm\n",
    "import matplotlib.pyplot as plt\n",
    "import seaborn as sns\n",
    "from collections import Counter\n",
    "import warnings\n",
    "import pandas as pd\n",
    "\n",
    "from collections import defaultdict\n",
    "\n",
    "warnings.filterwarnings(\"ignore\")\n",
    "%matplotlib inline"
   ]
  },
  {
   "cell_type": "markdown",
   "metadata": {},
   "source": [
    "#### Load existing model artifacts"
   ]
  },
  {
   "cell_type": "code",
   "execution_count": 2,
   "metadata": {},
   "outputs": [],
   "source": [
    "def pickle_loader(path):\n",
    "    with open(path, 'rb') as rb:\n",
    "        temp = pickle.load(rb)\n",
    "    return temp\n",
    "\n",
    "def get_matches_above_threshold(row, thresh):\n",
    "    valid_inds = np.where(row >= thresh)[0]\n",
    "    valid_vals = row[valid_inds]\n",
    "    return valid_inds, valid_vals\n",
    "\n",
    "feat_vecs_ret_l3 = pickle_loader('var_1r.pkl')\n",
    "feat_vecs_query_l3 = pickle_loader('var_1q.pkl')\n",
    "file_mapping_ret_l3 = pickle_loader('docs_1r.pkl')\n",
    "file_mapping_query_l3 = pickle_loader('docs_1q.pkl')\n",
    "\n",
    "# feat_vecs_ret_l9 = pickle_loader('var_2r.pkl')\n",
    "# feat_vecs_query_l9 = pickle_loader('var_2q.pkl')\n",
    "# file_mapping_ret_l9 = pickle_loader('docs_2r.pkl')\n",
    "# file_mapping_query_l9 = pickle_loader('docs_2q.pkl')"
   ]
  },
  {
   "cell_type": "markdown",
   "metadata": {},
   "source": [
    "### Cosine Evaluation Analysis\n",
    "#### New `CosEval` Class"
   ]
  },
  {
   "cell_type": "code",
   "execution_count": 3,
   "metadata": {},
   "outputs": [],
   "source": [
    "class CosEval:\n",
    "    def __init__(self, query_vector, ret_vector):\n",
    "        self.query_vector = query_vector\n",
    "        self.ret_vector = ret_vector\n",
    "        self.normalize_vector_matrices()\n",
    "\n",
    "\n",
    "    def normalize_vector_matrices(self):\n",
    "        self.normed_query_vector = self.get_normalized_matrix(self.query_vector)\n",
    "        self.normed_ret_vector = self.get_normalized_matrix(self.ret_vector)\n",
    "\n",
    "        \n",
    "    @staticmethod    \n",
    "    def get_normalized_matrix(x):\n",
    "        x_norm_per_row = norm(x, axis=1)\n",
    "        x_norm_per_row = x_norm_per_row[:, np.newaxis] # adding another axis\n",
    "        x_norm_per_row_tiled = np.tile(x_norm_per_row, (1, x.shape[1]))\n",
    "        x_normalized = x/x_norm_per_row_tiled \n",
    "        return x_normalized "
   ]
  },
  {
   "cell_type": "code",
   "execution_count": 4,
   "metadata": {},
   "outputs": [],
   "source": [
    "l3 = CosEval(feat_vecs_query_l3, feat_vecs_ret_l3)\n",
    "feat_vecs_query_norm = l3.normed_query_vector\n",
    "feat_vecs_ret_norm = l3.normed_ret_vector"
   ]
  },
  {
   "cell_type": "code",
   "execution_count": 5,
   "metadata": {},
   "outputs": [
    {
     "name": "stdout",
     "output_type": "stream",
     "text": [
      "CPU times: user 1.04 s, sys: 47 ms, total: 1.08 s\n",
      "Wall time: 326 ms\n"
     ]
    }
   ],
   "source": [
    "%time sim_vec = np.dot(feat_vecs_query_norm, feat_vecs_ret_norm.T)"
   ]
  },
  {
   "cell_type": "markdown",
   "metadata": {},
   "source": [
    "## List of potential experiments\n",
    "+ Histogram over similarity scores\n",
    "+ Histogram of number of retrievals (at thresh = T)\n",
    "+ Histogram of most frequently returned transformation(at threshold = T)\n",
    "+ Average similarity score for correct retrievals (at threshold = T)\n",
    "+ Average similarity score for incorrect retrievals (at threshold = T)\n",
    "+ Average similarity score for each type of transformation (at threshold = T)\n",
    "\n",
    "##### In Progress\n",
    "+ Average overall retrieval position for correct & incorrect retrievals (at threshold = T)\n",
    "+ Average retrieval position for each type of transformation (at threshold = T)\n",
    "\n",
    "### 1.Histogram over similarity scores"
   ]
  },
  {
   "cell_type": "code",
   "execution_count": 6,
   "metadata": {},
   "outputs": [],
   "source": [
    "def hist_plot(arr, title):\n",
    "    fig, axes = plt.subplots(1, 1, figsize=(16,6))\n",
    "    sns.distplot(arr, kde=False)\n",
    "    plt.title(title)\n",
    "    plt.show()"
   ]
  },
  {
   "cell_type": "code",
   "execution_count": 7,
   "metadata": {},
   "outputs": [
    {
     "data": {
      "image/png": "[encoded data removed]",
      "text/plain": [
       "<Figure size 1152x432 with 1 Axes>"
      ]
     },
     "metadata": {},
     "output_type": "display_data"
    }
   ],
   "source": [
    "all_sims = list(np.ndarray.flatten(sim_vec))\n",
    "hist_plot(all_sims, 'MobileNet L3 Cosine Similarities')"
   ]
  },
  {
   "cell_type": "markdown",
   "metadata": {},
   "source": [
    "### 2. Histogram of number of retrievals (at thresh = T)"
   ]
  },
  {
   "cell_type": "code",
   "execution_count": 8,
   "metadata": {},
   "outputs": [],
   "source": [
    "def get_retrievals_at_thresh(vec, file_mapping_query, file_mapping_ret, thresh=0.8):\n",
    "    dict_ret = {}\n",
    "    for i in range(vec.shape[0]):\n",
    "        valid_inds, valid_vals = get_matches_above_threshold(vec[i, :], thresh)\n",
    "        retrieved_files = [file_mapping_ret[j] for j in valid_inds]\n",
    "        query_name = file_mapping_query[i]\n",
    "        dict_ret[query_name] = dict(zip(retrieved_files, valid_vals))\n",
    "    return dict_ret"
   ]
  },
  {
   "cell_type": "code",
   "execution_count": 9,
   "metadata": {},
   "outputs": [],
   "source": [
    "dict_l3_t1 = get_retrievals_at_thresh(sim_vec, file_mapping_query_l3, file_mapping_ret_l3, 0.4)\n",
    "dict_l3_t2 = get_retrievals_at_thresh(sim_vec, file_mapping_query_l3, file_mapping_ret_l3, 0.6)\n",
    "dict_l3_t3 = get_retrievals_at_thresh(sim_vec, file_mapping_query_l3, file_mapping_ret_l3, 0.8)\n",
    "dict_l3_t4 = get_retrievals_at_thresh(sim_vec, file_mapping_query_l3, file_mapping_ret_l3, 0.9)"
   ]
  },
  {
   "cell_type": "code",
   "execution_count": 10,
   "metadata": {},
   "outputs": [
    {
     "data": {
      "image/png": "[encoded data removed]",
      "text/plain": [
       "<Figure size 1152x432 with 1 Axes>"
      ]
     },
     "metadata": {},
     "output_type": "display_data"
    }
   ],
   "source": [
    "all_ret_counts_t1 = [len(dict_l3_t1[query])for query in dict_l3_t1]\n",
    "hist_plot(all_ret_counts_t1, f'MobileNet L3 Retrieval Counts (at T=0.4)\\nRetrieval: {np.sum(all_ret_counts_t1)*100/len(all_sims)}%')"
   ]
  },
  {
   "cell_type": "code",
   "execution_count": 11,
   "metadata": {},
   "outputs": [
    {
     "data": {
      "image/png": "[encoded data removed]",
      "text/plain": [
       "<Figure size 1152x432 with 1 Axes>"
      ]
     },
     "metadata": {},
     "output_type": "display_data"
    }
   ],
   "source": [
    "all_ret_counts_t2 = [len(dict_l3_t2[query])for query in dict_l3_t2]\n",
    "hist_plot(all_ret_counts_t2, f'MobileNet L3 Retrieval Counts (at T=0.6)\\nRetrieval: {np.sum(all_ret_counts_t2)*100/len(all_sims)}%')"
   ]
  },
  {
   "cell_type": "code",
   "execution_count": 12,
   "metadata": {},
   "outputs": [
    {
     "data": {
      "image/png": "[encoded data removed]",
      "text/plain": [
       "<Figure size 1152x432 with 1 Axes>"
      ]
     },
     "metadata": {},
     "output_type": "display_data"
    }
   ],
   "source": [
    "all_ret_counts_t3 = [len(dict_l3_t3[query])for query in dict_l3_t3]\n",
    "hist_plot(all_ret_counts_t3, f'MobileNet L3 Retrieval Counts (at T=0.8)\\nRetrieval: {np.sum(all_ret_counts_t3)*100/len(all_sims)}%')"
   ]
  },
  {
   "cell_type": "code",
   "execution_count": 13,
   "metadata": {},
   "outputs": [
    {
     "data": {
      "text/plain": [
       "12773"
      ]
     },
     "execution_count": 13,
     "metadata": {},
     "output_type": "execute_result"
    }
   ],
   "source": [
    "np.sum(all_ret_counts_t3)"
   ]
  },
  {
   "cell_type": "code",
   "execution_count": 14,
   "metadata": {},
   "outputs": [
    {
     "data": {
      "image/png": "[encoded data removed]",
      "text/plain": [
       "<Figure size 1152x432 with 1 Axes>"
      ]
     },
     "metadata": {},
     "output_type": "display_data"
    }
   ],
   "source": [
    "all_ret_counts_t4 = [len(dict_l3_t4[query])for query in dict_l3_t4]\n",
    "hist_plot(all_ret_counts_t4, f'MobileNet L3 Retrieval Counts (at T=0.9)\\nRetrieval: {np.sum(all_ret_counts_t4)*100/len(all_sims)}%')"
   ]
  },
  {
   "cell_type": "markdown",
   "metadata": {},
   "source": [
    "### 3. Histogram of most frequently returned transformation(at threshold = T)"
   ]
  },
  {
   "cell_type": "code",
   "execution_count": 22,
   "metadata": {},
   "outputs": [],
   "source": [
    "def transformation_extractor(x):\n",
    "    return x.split('.')[0].split('_')[1]\n",
    "\n",
    "def transformation_counter(results_dict):\n",
    "    suffix_name_correct = []\n",
    "    suffix_name_incorrect = []\n",
    "    correct_counter = 0\n",
    "    incorrect_counter = 0\n",
    "\n",
    "    for k, v in results_dict.items():\n",
    "        base_name = k.split('.')[0].split('/')[-1]\n",
    "        #b_name.append(base_name)\n",
    "        for val in v:\n",
    "            base_name_ret = val.split('.')[0].split('_')[0].split('/')[-1]\n",
    "            transformation_name = transformation_extractor(val)\n",
    "            #import ipdb; ipdb.set_trace()\n",
    "            if base_name_ret in base_name:\n",
    "                suffix_name_correct.append(transformation_name)\n",
    "                correct_counter += 1\n",
    "            else:\n",
    "                suffix_name_incorrect.append(transformation_name)\n",
    "                incorrect_counter += 1\n",
    "    return {'correct': Counter(suffix_name_correct), 'incorrect': Counter(suffix_name_incorrect)}"
   ]
  },
  {
   "cell_type": "code",
   "execution_count": 24,
   "metadata": {},
   "outputs": [],
   "source": [
    "trans_count_d1 = transformation_counter(dict_l3_t1)\n",
    "trans_count_d2 = transformation_counter(dict_l3_t2)\n",
    "trans_count_d3 = transformation_counter(dict_l3_t3)\n",
    "trans_count_d4 = transformation_counter(dict_l3_t4)"
   ]
  },
  {
   "cell_type": "markdown",
   "metadata": {},
   "source": [
    "#### Visualizing accuracy across different transformation types"
   ]
  },
  {
   "cell_type": "code",
   "execution_count": 49,
   "metadata": {},
   "outputs": [],
   "source": [
    "trans_perc_d1 = ({\n",
    "        k: trans_count_d1['correct'][k] * 100 / (trans_count_d1['correct'][k]+trans_count_d1['incorrect'][k])\n",
    "        for k in trans_count_d1['correct']\n",
    "    })\n",
    "\n",
    "\n",
    "trans_perc_d2 = ({\n",
    "        k: trans_count_d2['correct'][k] * 100 / (trans_count_d2['correct'][k]+trans_count_d2['incorrect'][k])\n",
    "        for k in trans_count_d2['correct']\n",
    "    })\n",
    "\n",
    "\n",
    "trans_perc_d3 = ({\n",
    "        k: trans_count_d3['correct'][k] * 100 / (trans_count_d3['correct'][k]+trans_count_d3['incorrect'][k])\n",
    "        for k in trans_count_d3['correct']\n",
    "    })\n",
    "\n",
    "\n",
    "trans_perc_d4 = ({\n",
    "        k: trans_count_d4['correct'][k] * 100 / (trans_count_d4['correct'][k]+trans_count_d4['incorrect'][k])\n",
    "        for k in trans_count_d4['correct']\n",
    "    })"
   ]
  },
  {
   "cell_type": "code",
   "execution_count": 59,
   "metadata": {},
   "outputs": [
    {
     "data": {
      "image/png": "[encoded data removed]",
      "text/plain": [
       "<Figure size 432x288 with 2 Axes>"
      ]
     },
     "metadata": {},
     "output_type": "display_data"
    }
   ],
   "source": [
    "heatmap_acc = {} \n",
    "for k in trans_perc_d1:\n",
    "    heatmap_acc[k] = np.log([trans_perc_d1[k], trans_perc_d2[k], trans_perc_d3[k], trans_perc_d4[k]])/np.log(10)\n",
    "\n",
    "t = pd.DataFrame.from_dict(heatmap_acc)\n",
    "t.index = ([0.4, 0.6, 0.8, 0.9])\n",
    "sns.heatmap(t)\n",
    "plt.show()"
   ]
  },
  {
   "cell_type": "markdown",
   "metadata": {},
   "source": [
    "#### Visualizing recall across different transformation types"
   ]
  },
  {
   "cell_type": "code",
   "execution_count": 60,
   "metadata": {},
   "outputs": [
    {
     "data": {
      "image/png": "[encoded data removed]",
      "text/plain": [
       "<Figure size 432x288 with 2 Axes>"
      ]
     },
     "metadata": {},
     "output_type": "display_data"
    }
   ],
   "source": [
    "trans_rec_d1 = ({\n",
    "        k: trans_count_d1['correct'][k] * 100 / 2550\n",
    "        for k in trans_count_d1['correct']\n",
    "    })\n",
    "\n",
    "\n",
    "trans_rec_d2 = ({\n",
    "        k: trans_count_d2['correct'][k] * 100 / 2550\n",
    "        for k in trans_count_d2['correct']\n",
    "    })\n",
    "\n",
    "\n",
    "trans_rec_d3 = ({\n",
    "        k: trans_count_d3['correct'][k] * 100 / 2550\n",
    "        for k in trans_count_d3['correct']\n",
    "    })\n",
    "\n",
    "\n",
    "trans_rec_d4 = ({\n",
    "        k: trans_count_d4['correct'][k] * 100 / 2550\n",
    "        for k in trans_count_d4['correct']\n",
    "    })\n",
    "\n",
    "\n",
    "  ## Plotting \n",
    "heatmap_rec = {} \n",
    "for k in trans_rec_d1:\n",
    "    heatmap_rec[k] = np.log([trans_rec_d1[k], trans_rec_d2[k], trans_rec_d3[k], trans_rec_d4[k]])/np.log(10)\n",
    "\n",
    "t = pd.DataFrame.from_dict(heatmap_acc)\n",
    "t.index = ([0.4, 0.6, 0.8, 0.9])\n",
    "sns.heatmap(t)\n",
    "plt.show()"
   ]
  },
  {
   "cell_type": "code",
   "execution_count": 175,
   "metadata": {},
   "outputs": [
    {
     "name": "stdout",
     "output_type": "stream",
     "text": [
      "{'cropped': 100.0, 'hflip': 100.0, 'resize': 100.0, 'rotation': 100.0, 'vflip': 99.76470588235294}\n",
      "{'cropped': 100.0, 'hflip': 100.0, 'resize': 100.0, 'rotation': 98.58823529411765, 'vflip': 95.33333333333333}\n",
      "{'cropped': 99.80392156862744, 'hflip': 100.0, 'resize': 100.0, 'vflip': 61.76470588235294, 'rotation': 67.45098039215686}\n",
      "{'hflip': 99.45098039215686, 'resize': 96.3921568627451, 'vflip': 13.882352941176471, 'cropped': 89.13725490196079, 'rotation': 6.313725490196078}\n"
     ]
    }
   ],
   "source": [
    "print(trans_rec_d1)\n",
    "print(trans_rec_d2)\n",
    "print(trans_rec_d3)\n",
    "print(trans_rec_d4)"
   ]
  },
  {
   "cell_type": "code",
   "execution_count": 73,
   "metadata": {},
   "outputs": [
    {
     "data": {
      "text/html": [
       "<div>\n",
       "<style scoped>\n",
       "    .dataframe tbody tr th:only-of-type {\n",
       "        vertical-align: middle;\n",
       "    }\n",
       "\n",
       "    .dataframe tbody tr th {\n",
       "        vertical-align: top;\n",
       "    }\n",
       "\n",
       "    .dataframe thead th {\n",
       "        text-align: right;\n",
       "    }\n",
       "</style>\n",
       "<table border=\"1\" class=\"dataframe\">\n",
       "  <thead>\n",
       "    <tr style=\"text-align: right;\">\n",
       "      <th></th>\n",
       "      <th>correct</th>\n",
       "      <th>incorrect</th>\n",
       "      <th>correct</th>\n",
       "      <th>incorrect</th>\n",
       "      <th>correct</th>\n",
       "      <th>incorrect</th>\n",
       "      <th>correct</th>\n",
       "      <th>incorrect</th>\n",
       "    </tr>\n",
       "  </thead>\n",
       "  <tbody>\n",
       "    <tr>\n",
       "      <th>cropped</th>\n",
       "      <td>2550</td>\n",
       "      <td>1830861</td>\n",
       "      <td>2550</td>\n",
       "      <td>148032</td>\n",
       "      <td>2545</td>\n",
       "      <td>360</td>\n",
       "      <td>2273</td>\n",
       "      <td>2.0</td>\n",
       "    </tr>\n",
       "    <tr>\n",
       "      <th>hflip</th>\n",
       "      <td>2550</td>\n",
       "      <td>2029819</td>\n",
       "      <td>2550</td>\n",
       "      <td>192551</td>\n",
       "      <td>2550</td>\n",
       "      <td>544</td>\n",
       "      <td>2536</td>\n",
       "      <td>5.0</td>\n",
       "    </tr>\n",
       "    <tr>\n",
       "      <th>resize</th>\n",
       "      <td>2550</td>\n",
       "      <td>1764861</td>\n",
       "      <td>2550</td>\n",
       "      <td>145337</td>\n",
       "      <td>2550</td>\n",
       "      <td>312</td>\n",
       "      <td>2458</td>\n",
       "      <td>1.0</td>\n",
       "    </tr>\n",
       "    <tr>\n",
       "      <th>rotation</th>\n",
       "      <td>2550</td>\n",
       "      <td>2576804</td>\n",
       "      <td>2514</td>\n",
       "      <td>275057</td>\n",
       "      <td>1720</td>\n",
       "      <td>310</td>\n",
       "      <td>161</td>\n",
       "      <td>NaN</td>\n",
       "    </tr>\n",
       "    <tr>\n",
       "      <th>vflip</th>\n",
       "      <td>2544</td>\n",
       "      <td>2076831</td>\n",
       "      <td>2431</td>\n",
       "      <td>184498</td>\n",
       "      <td>1575</td>\n",
       "      <td>307</td>\n",
       "      <td>354</td>\n",
       "      <td>NaN</td>\n",
       "    </tr>\n",
       "  </tbody>\n",
       "</table>\n",
       "</div>"
      ],
      "text/plain": [
       "          correct  incorrect  correct  incorrect  correct  incorrect  correct  \\\n",
       "cropped      2550    1830861     2550     148032     2545        360     2273   \n",
       "hflip        2550    2029819     2550     192551     2550        544     2536   \n",
       "resize       2550    1764861     2550     145337     2550        312     2458   \n",
       "rotation     2550    2576804     2514     275057     1720        310      161   \n",
       "vflip        2544    2076831     2431     184498     1575        307      354   \n",
       "\n",
       "          incorrect  \n",
       "cropped         2.0  \n",
       "hflip           5.0  \n",
       "resize          1.0  \n",
       "rotation        NaN  \n",
       "vflip           NaN  "
      ]
     },
     "execution_count": 73,
     "metadata": {},
     "output_type": "execute_result"
    }
   ],
   "source": [
    "pd.concat([\n",
    "    pd.DataFrame(trans_count_d1),\n",
    "    pd.DataFrame(trans_count_d2),\n",
    "    pd.DataFrame(trans_count_d3),\n",
    "    pd.DataFrame(trans_count_d4) \n",
    "], axis=1)"
   ]
  },
  {
   "cell_type": "markdown",
   "metadata": {},
   "source": [
    "## Benchmarking our experiments\n",
    "###  `EvalPerformance` records for each of the four thresholds explored"
   ]
  },
  {
   "cell_type": "code",
   "execution_count": 106,
   "metadata": {},
   "outputs": [],
   "source": [
    "def retrieval_stripper(x):\n",
    "    return x.lstrip(u'Retrieval')[1:]\n",
    "\n",
    "dict_ret_1 = {\n",
    "    k.lstrip(u'Query')[1:]: list(map(retrieval_stripper, dict_l3_t1[k].keys()))\n",
    "    for k in dict_l3_t1\n",
    "}\n",
    "\n",
    "dict_ret_2 = {\n",
    "    k.lstrip(u'Query')[1:]: list(map(retrieval_stripper, dict_l3_t2[k].keys()))\n",
    "    for k in dict_l3_t2\n",
    "}\n",
    "\n",
    "dict_ret_3 = {\n",
    "    k.lstrip(u'Query')[1:]: list(map(retrieval_stripper, dict_l3_t3[k].keys()))\n",
    "    for k in dict_l3_t3\n",
    "}\n",
    "\n",
    "dict_ret_4 = {\n",
    "    k.lstrip(u'Query')[1:]: list(map(retrieval_stripper, dict_l3_t4[k].keys()))\n",
    "    for k in dict_l3_t4\n",
    "}"
   ]
  },
  {
   "cell_type": "markdown",
   "metadata": {},
   "source": [
    "#### Load gold retrievals"
   ]
  },
  {
   "cell_type": "code",
   "execution_count": 110,
   "metadata": {},
   "outputs": [],
   "source": [
    "GOLD_PATH = '/Users/zubin.john/forge/image-dedup/Transformed_dataset/ground_truth_transformed.pkl'\n",
    "\n",
    "with open(GOLD_PATH, 'rb') as buf:\n",
    "        correct_dict = pickle.load(buf)"
   ]
  },
  {
   "cell_type": "markdown",
   "metadata": {},
   "source": [
    "#### Report metrics for model variant"
   ]
  },
  {
   "cell_type": "code",
   "execution_count": 113,
   "metadata": {},
   "outputs": [
    {
     "name": "stdout",
     "output_type": "stream",
     "text": [
      "[t=0.4] MAP\t0.023746109417896878\n",
      "[t=0.4] NDCG\t0.19253736893601395\n",
      "[t=0.4] Jaccard\t0.010491971856677718\n"
     ]
    }
   ],
   "source": [
    "import sys\n",
    "sys.path.append('/Users/zubin.john/forge/image-dedup/')\n",
    "from imagededup.evaluation import EvalPerformance\n",
    "\n",
    "eval1 = EvalPerformance(correct_dict, dict_ret_1)\n",
    "for metric, reading in eval1.get_all_metrics().items():\n",
    "    print(f'[t=0.4] {metric}\\t{reading}')"
   ]
  },
  {
   "cell_type": "code",
   "execution_count": 115,
   "metadata": {},
   "outputs": [
    {
     "name": "stdout",
     "output_type": "stream",
     "text": [
      "[t=0.6] MAP\t0.26827606825884404\n",
      "[t=0.6] NDCG\t0.4403159339384259\n",
      "[t=0.6] Jaccard\t0.2155004144278737\n"
     ]
    }
   ],
   "source": [
    "eval2 = EvalPerformance(correct_dict, dict_ret_2)\n",
    "for metric, reading in eval2.get_all_metrics().items():\n",
    "    print(f'[t=0.6] {metric}\\t{reading}')"
   ]
  },
  {
   "cell_type": "code",
   "execution_count": 114,
   "metadata": {},
   "outputs": [
    {
     "name": "stdout",
     "output_type": "stream",
     "text": [
      "[t=0.8] MAP\t0.8214041018286498\n",
      "[t=0.8] NDCG\t0.9687260713327025\n",
      "[t=0.8] Jaccard\t0.814502907146487\n"
     ]
    }
   ],
   "source": [
    "eval3 = EvalPerformance(correct_dict, dict_ret_3)\n",
    "for metric, reading in eval3.get_all_metrics().items():\n",
    "    print(f'[t=0.8] {metric}\\t{reading}')"
   ]
  },
  {
   "cell_type": "code",
   "execution_count": 116,
   "metadata": {},
   "outputs": [
    {
     "name": "stdout",
     "output_type": "stream",
     "text": [
      "[t=0.9] MAP\t0.6100444444444444\n",
      "[t=0.9] NDCG\t0.9973100812680736\n",
      "[t=0.9] Jaccard\t0.6100354808590102\n"
     ]
    }
   ],
   "source": [
    "eval4 = EvalPerformance(correct_dict, dict_ret_4)\n",
    "for metric, reading in eval4.get_all_metrics().items():\n",
    "    print(f'[t=0.9] {metric}\\t{reading}')"
   ]
  },
  {
   "cell_type": "markdown",
   "metadata": {},
   "source": [
    "## Back to experimentation\n",
    "### 4. Average similarity score for correct retrievals (at threshold = T)"
   ]
  },
  {
   "cell_type": "code",
   "execution_count": 125,
   "metadata": {},
   "outputs": [],
   "source": [
    "def correct_counter(results_dict):\n",
    "    correct_sims = []\n",
    "    incorrect_sims = []\n",
    "\n",
    "    for k, v in results_dict.items():\n",
    "        base_name = k.split('.')[0].split('/')[-1]\n",
    "        for k_val, v_val in v.items():\n",
    "            base_name_ret = k_val.split('.')[0].split('_')[0].split('/')[-1]\n",
    "            if base_name_ret in base_name:\n",
    "                correct_sims.append(v_val)\n",
    "            else:\n",
    "                incorrect_sims.append(v_val)\n",
    "    return {'correct': correct_sims, 'incorrect': incorrect_sims}"
   ]
  },
  {
   "cell_type": "code",
   "execution_count": 134,
   "metadata": {},
   "outputs": [],
   "source": [
    "sim_score_dict_l3_t1 = correct_counter(dict_l3_t1)"
   ]
  },
  {
   "cell_type": "code",
   "execution_count": 135,
   "metadata": {},
   "outputs": [
    {
     "data": {
      "image/png": "[encoded data removed]",
      "text/plain": [
       "<Figure size 1152x432 with 1 Axes>"
      ]
     },
     "metadata": {},
     "output_type": "display_data"
    }
   ],
   "source": [
    "hist_plot(sim_score_dict_l3_t1['correct'], 'correct')"
   ]
  },
  {
   "cell_type": "code",
   "execution_count": 136,
   "metadata": {},
   "outputs": [
    {
     "data": {
      "image/png": "[encoded data removed]",
      "text/plain": [
       "<Figure size 1152x432 with 1 Axes>"
      ]
     },
     "metadata": {},
     "output_type": "display_data"
    }
   ],
   "source": [
    "hist_plot(sim_score_dict_l3_t1['incorrect'], 'incorrect')"
   ]
  },
  {
   "cell_type": "code",
   "execution_count": 139,
   "metadata": {},
   "outputs": [
    {
     "data": {
      "image/png": "[encoded data removed]",
      "text/plain": [
       "<Figure size 1152x432 with 1 Axes>"
      ]
     },
     "metadata": {},
     "output_type": "display_data"
    }
   ],
   "source": [
    "sim_score_dict_l3_t3 = correct_counter(dict_l3_t3)\n",
    "hist_plot(sim_score_dict_l3_t3['correct'], 'correct')"
   ]
  },
  {
   "cell_type": "code",
   "execution_count": 140,
   "metadata": {},
   "outputs": [
    {
     "data": {
      "image/png": "[encoded data removed]",
      "text/plain": [
       "<Figure size 1152x432 with 1 Axes>"
      ]
     },
     "metadata": {},
     "output_type": "display_data"
    }
   ],
   "source": [
    "hist_plot(sim_score_dict_l3_t3['incorrect'], 'incorrect')"
   ]
  },
  {
   "cell_type": "code",
   "execution_count": 137,
   "metadata": {},
   "outputs": [
    {
     "data": {
      "image/png": "[encoded data removed]",
      "text/plain": [
       "<Figure size 1152x432 with 1 Axes>"
      ]
     },
     "metadata": {},
     "output_type": "display_data"
    }
   ],
   "source": [
    "sim_score_dict_l3_t4 = correct_counter(dict_l3_t4)\n",
    "hist_plot(sim_score_dict_l3_t4['correct'], 'correct')"
   ]
  },
  {
   "cell_type": "code",
   "execution_count": 138,
   "metadata": {},
   "outputs": [
    {
     "data": {
      "image/png": "[encoded data removed]",
      "text/plain": [
       "<Figure size 1152x432 with 1 Axes>"
      ]
     },
     "metadata": {},
     "output_type": "display_data"
    }
   ],
   "source": [
    "hist_plot(sim_score_dict_l3_t4['incorrect'], 'incorrect')"
   ]
  },
  {
   "cell_type": "code",
   "execution_count": 146,
   "metadata": {},
   "outputs": [
    {
     "name": "stdout",
     "output_type": "stream",
     "text": [
      "0.89227337\n",
      "0.4943006\n"
     ]
    }
   ],
   "source": [
    "print(np.mean(sim_score_dict_l3_t1['correct']))\n",
    "print(np.mean(sim_score_dict_l3_t1['incorrect']))"
   ]
  },
  {
   "cell_type": "code",
   "execution_count": 144,
   "metadata": {},
   "outputs": [
    {
     "name": "stdout",
     "output_type": "stream",
     "text": [
      "0.9205205\n",
      "0.8201341\n"
     ]
    }
   ],
   "source": [
    "print(np.mean(sim_score_dict_l3_t3['correct']))\n",
    "print(np.mean(sim_score_dict_l3_t3['incorrect']))"
   ]
  },
  {
   "cell_type": "code",
   "execution_count": 145,
   "metadata": {},
   "outputs": [
    {
     "name": "stdout",
     "output_type": "stream",
     "text": [
      "0.94765955\n",
      "0.904081\n"
     ]
    }
   ],
   "source": [
    "print(np.mean(sim_score_dict_l3_t4['correct']))\n",
    "print(np.mean(sim_score_dict_l3_t4['incorrect']))"
   ]
  },
  {
   "cell_type": "markdown",
   "metadata": {},
   "source": [
    "### 6. Average similarity score for each type of transformation"
   ]
  },
  {
   "cell_type": "code",
   "execution_count": 151,
   "metadata": {},
   "outputs": [],
   "source": [
    "def transformation_extractor(x):\n",
    "    return x.split('.')[0].split('_')[1]\n",
    "\n",
    "def transformation_sim_score(results_dict):\n",
    "    suffix_name_correct = []\n",
    "    suffix_name_incorrect = []\n",
    "    correct_counter = 0\n",
    "    incorrect_counter = 0\n",
    "   \n",
    "    correct_dict = defaultdict(list)\n",
    "    incorrect_dict = defaultdict(list)\n",
    "\n",
    "    for k, v in results_dict.items():\n",
    "        base_name = k.split('.')[0].split('/')[-1]\n",
    "        for k_val, v_val in v.items():\n",
    "            base_name_ret = k_val.split('.')[0].split('_')[0].split('/')[-1]\n",
    "            transformation_name = transformation_extractor(k_val)\n",
    "            if base_name_ret in base_name:\n",
    "                suffix_name_correct.append(transformation_name)\n",
    "                # correct_counter += 1\n",
    "                correct_dict[transformation_name].append(v_val)\n",
    "            else:\n",
    "                suffix_name_incorrect.append(transformation_name)\n",
    "                # incorrect_counter += 1\n",
    "                incorrect_dict[transformation_name].append(v_val)\n",
    "    return correct_dict, incorrect_dict"
   ]
  },
  {
   "cell_type": "code",
   "execution_count": 152,
   "metadata": {},
   "outputs": [],
   "source": [
    "correct_dict_l3_t1, incorrect_dict_l3_t1 = transformation_sim_score(dict_l3_t1)\n",
    "correct_dict_l3_t3, incorrect_dict_l3_t3 = transformation_sim_score(dict_l3_t3)"
   ]
  },
  {
   "cell_type": "code",
   "execution_count": 174,
   "metadata": {},
   "outputs": [
    {
     "name": "stdout",
     "output_type": "stream",
     "text": [
      "cropped: 0.9332269430160522, 0.8217760920524597\n",
      "hflip: 0.9587452411651611, 0.8232632875442505\n",
      "resize: 0.9468368887901306, 0.8189552426338196\n",
      "vflip: 0.8671306371688843, 0.8176788687705994\n",
      "rotation: 0.8549227118492126, 0.8163541555404663\n"
     ]
    }
   ],
   "source": [
    "for op in correct_dict_l3_t3:\n",
    "    print(f'{op}: {np.mean(correct_dict_l3_t3[op])}, {np.mean(incorrect_dict_l3_t3[op])}')"
   ]
  },
  {
   "cell_type": "code",
   "execution_count": 158,
   "metadata": {},
   "outputs": [
    {
     "data": {
      "image/png": "[encoded data removed]",
      "text/plain": [
       "<Figure size 1152x432 with 1 Axes>"
      ]
     },
     "metadata": {},
     "output_type": "display_data"
    }
   ],
   "source": [
    "hist_plot(correct_dict_l3_t1['hflip'], \"corr hflip\")"
   ]
  },
  {
   "cell_type": "code",
   "execution_count": 159,
   "metadata": {},
   "outputs": [
    {
     "data": {
      "image/png": "[encoded data removed]",
      "text/plain": [
       "<Figure size 1152x432 with 1 Axes>"
      ]
     },
     "metadata": {},
     "output_type": "display_data"
    }
   ],
   "source": [
    "hist_plot(incorrect_dict_l3_t1['hflip'], \"incorr hflip\")"
   ]
  },
  {
   "cell_type": "code",
   "execution_count": 160,
   "metadata": {},
   "outputs": [
    {
     "data": {
      "image/png": "[encoded data removed]",
      "text/plain": [
       "<Figure size 1152x432 with 1 Axes>"
      ]
     },
     "metadata": {},
     "output_type": "display_data"
    }
   ],
   "source": [
    "hist_plot(correct_dict_l3_t1['vflip'], \"corr vflip\")"
   ]
  },
  {
   "cell_type": "code",
   "execution_count": 161,
   "metadata": {},
   "outputs": [
    {
     "data": {
      "image/png": "[encoded data removed]",
      "text/plain": [
       "<Figure size 1152x432 with 1 Axes>"
      ]
     },
     "metadata": {},
     "output_type": "display_data"
    }
   ],
   "source": [
    "hist_plot(incorrect_dict_l3_t1['vflip'], \"incorr vflip\")"
   ]
  },
  {
   "cell_type": "markdown",
   "metadata": {},
   "source": [
    "## Observations\n",
    "+ Most of the mass for similarity score is located in the positive range\n",
    "+ Distribution is uni-modal\n",
    "\n",
    "### Transformation Analysis\n",
    "+ Accuracy is highest with threshold of `0.9`\n",
    "+ Recall is lowest at threshold of `0.9`\n",
    "+ _vflips_ and _rotations_ are culprits for poor recall - the correctness confidence is lower when compared to other transformations"
   ]
  }
 ],
 "metadata": {
  "kernelspec": {
   "display_name": "Python 3",
   "language": "python",
   "name": "python3"
  },
  "language_info": {
   "codemirror_mode": {
    "name": "ipython",
    "version": 3
   },
   "file_extension": ".py",
   "mimetype": "text/x-python",
   "name": "python",
   "nbconvert_exporter": "python",
   "pygments_lexer": "ipython3",
   "version": "3.6.4"
  }
 },
 "nbformat": 4,
 "nbformat_minor": 2
}
