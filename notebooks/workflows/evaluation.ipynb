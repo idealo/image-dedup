{
 "cells": [
  {
   "cell_type": "code",
   "execution_count": null,
   "metadata": {},
   "outputs": [],
   "source": [
    "from imagededup.evaluation.evaluator import Evaluate\n",
    "import pickle"
   ]
  },
  {
   "cell_type": "code",
   "execution_count": null,
   "metadata": {},
   "outputs": [],
   "source": [
    "from pathlib import Path\n",
    "\n",
    "QUERY_PATH = Path('/Users/tanuj.jain/Documents/dedup-data/Transformed_dataset/Query')\n",
    "TEST_PATH = Path('/Users/tanuj.jain/Documents/dedup-data/Transformed_dataset/Retrieval')\n",
    "GOLD_PATH = Path('/Users/tanuj.jain/Documents/dedup-data/Transformed_dataset/ground_truth_transformed.pkl')"
   ]
  },
  {
   "cell_type": "code",
   "execution_count": null,
   "metadata": {},
   "outputs": [],
   "source": [
    "with open(GOLD_PATH, 'rb') as f:\n",
    "    ground_truth = pickle.load(f)"
   ]
  },
  {
   "cell_type": "markdown",
   "metadata": {},
   "source": [
    "# Hash"
   ]
  },
  {
   "cell_type": "code",
   "execution_count": null,
   "metadata": {},
   "outputs": [],
   "source": [
    "hash_method_args = {'hash_method': 'phash', 'hashing_threshold': 13}"
   ]
  },
  {
   "cell_type": "code",
   "execution_count": null,
   "metadata": {},
   "outputs": [],
   "source": [
    "myEval = Evaluate(query_dir_dict=QUERY_PATH, test_dir_dict=TEST_PATH, ground_truth_dict=ground_truth, \n",
    "                  method='hashing', method_args=hash_method_args, save_filename=None)"
   ]
  },
  {
   "cell_type": "code",
   "execution_count": null,
   "metadata": {},
   "outputs": [],
   "source": [
    "## repeated experimentation"
   ]
  },
  {
   "cell_type": "code",
   "execution_count": null,
   "metadata": {},
   "outputs": [],
   "source": [
    "from imagededup.hashing import Hashing\n",
    "hasher = Hashing(method='phash')\n",
    "hash_dict_query = hasher.hash_dir(QUERY_PATH)\n",
    "hash_dict_test = hasher.hash_dir(TEST_PATH)\n",
    "\n",
    "hash_method_args = {'hash_method': 'phash', 'hashing_threshold': 13}"
   ]
  },
  {
   "cell_type": "code",
   "execution_count": null,
   "metadata": {},
   "outputs": [],
   "source": [
    "Evaluate(query_dir_dict=hash_dict_query, test_dir_dict=hash_dict_test, ground_truth_dict=ground_truth, \n",
    "                  method='hashing', method_args=hash_method_args, save_filename=None)"
   ]
  },
  {
   "cell_type": "markdown",
   "metadata": {},
   "source": [
    "# CNN"
   ]
  },
  {
   "cell_type": "code",
   "execution_count": null,
   "metadata": {
    "scrolled": true
   },
   "outputs": [],
   "source": [
    "cnn_method_args = {'cosine_threshold': 0.8}\n",
    "myEval = Evaluate(query_dir=QUERY_PATH, test_dir=TEST_PATH, ground_truth_file=GOLD_PATH, \n",
    "                  method='cnn', method_args=cnn_method_args, save_filename=None)"
   ]
  },
  {
   "cell_type": "code",
   "execution_count": null,
   "metadata": {},
   "outputs": [],
   "source": [
    "## repeated experimentation"
   ]
  },
  {
   "cell_type": "code",
   "execution_count": null,
   "metadata": {},
   "outputs": [],
   "source": [
    "from imagededup.cnn import CNN\n",
    "cnn_obj = CNN()\n",
    "cnn_dict_query = cnn_obj.cnn_dir(QUERY_PATH)\n",
    "cnn_dict_test = cnn_obj.cnn_dir(TEST_PATH)\n",
    "\n",
    "cnn_method_args = {'cosine_threshold': 0.8}"
   ]
  },
  {
   "cell_type": "code",
   "execution_count": null,
   "metadata": {},
   "outputs": [],
   "source": [
    "Evaluate(query_dir_dict=cnn_dict_query, test_dir_dict=cnn_dict_test, ground_truth_dict=ground_truth, \n",
    "                  method='cnn', method_args=cnn_method_args, save_filename=None)"
   ]
  }
 ],
 "metadata": {
  "kernelspec": {
   "display_name": "Python 3",
   "language": "python",
   "name": "python3"
  },
  "language_info": {
   "codemirror_mode": {
    "name": "ipython",
    "version": 3
   },
   "file_extension": ".py",
   "mimetype": "text/x-python",
   "name": "python",
   "nbconvert_exporter": "python",
   "pygments_lexer": "ipython3",
   "version": "3.6.8"
  }
 },
 "nbformat": 4,
 "nbformat_minor": 2
}
