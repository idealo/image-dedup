{
 "cells": [
  {
   "cell_type": "code",
   "execution_count": 1,
   "metadata": {},
   "outputs": [],
   "source": [
    "from pathlib import Path"
   ]
  },
  {
   "cell_type": "code",
   "execution_count": 2,
   "metadata": {},
   "outputs": [],
   "source": [
    "image_dir = Path('/Users/tanuj.jain/Documents/dedup-data/dummy')"
   ]
  },
  {
   "cell_type": "markdown",
   "metadata": {},
   "source": [
    "# Hashing"
   ]
  },
  {
   "cell_type": "code",
   "execution_count": 3,
   "metadata": {},
   "outputs": [],
   "source": [
    "from imagededup.hashing import Hashing"
   ]
  },
  {
   "cell_type": "code",
   "execution_count": 4,
   "metadata": {
    "scrolled": true
   },
   "outputs": [
    {
     "name": "stderr",
     "output_type": "stream",
     "text": [
      "2019-07-16 17:37:29,446 imagededup.hashing: INFO Start: Calculating hashes using phash!\n",
      "2019-07-16 17:37:29,744 imagededup.hashing: INFO End: Calculating hashes using phash!\n",
      "2019-07-16 17:37:29,745 imagededup.hashing: INFO Start: Evaluating hamming distances for getting duplicates\n",
      "2019-07-16 17:37:29,746 imagededup.retrieve.retrieval: INFO Start: Retrieving duplicates using BKTree algorithm\n",
      "2019-07-16 17:37:29,762 imagededup.retrieve.retrieval: INFO End: Retrieving duplicates using BKTree algorithm\n",
      "2019-07-16 17:37:29,763 imagededup.hashing: INFO End: Evaluating hamming distances for getting duplicates\n"
     ]
    },
    {
     "data": {
      "text/plain": [
       "{'ukbench09268_resize.jpg': [],\n",
       " 'ukbench09040_resize.jpg': ['ukbench09040_hflip.jpg',\n",
       "  'ukbench09040_rotation.jpg'],\n",
       " 'ukbench09348_hflip.jpg': ['ukbench09348_resize.jpg'],\n",
       " 'ukbench08996_resize.jpg': [],\n",
       " 'ukbench09012_hflip.jpg': [],\n",
       " 'ukbench00120_resize.jpg': [],\n",
       " 'ukbench00120_rotation.jpg': [],\n",
       " 'ukbench09348_rotation.jpg': [],\n",
       " 'ukbench09060_rotation.jpg': [],\n",
       " 'ukbench01380_resize.jpg': [],\n",
       " 'ukbench00120_hflip.jpg': [],\n",
       " 'ukbench01380_rotation.jpg': [],\n",
       " 'ukbench09380_hflip.jpg': [],\n",
       " 'ukbench08976_hflip.jpg': [],\n",
       " 'ukbench09380_rotation.jpg': [],\n",
       " 'ukbench09012_resize.jpg': [],\n",
       " 'ukbench09040_rotation.jpg': ['ukbench09040_resize.jpg'],\n",
       " 'ukbench09012_rotation.jpg': [],\n",
       " 'ukbench09040_hflip.jpg': ['ukbench09040_resize.jpg'],\n",
       " 'ukbench08996_hflip.jpg': [],\n",
       " 'ukbench09268_rotation.jpg': [],\n",
       " 'ukbench08996_rotation.jpg': [],\n",
       " 'ukbench09060_resize.jpg': [],\n",
       " 'ukbench01380_hflip.jpg': [],\n",
       " 'ukbench09060_hflip.jpg': [],\n",
       " 'ukbench08976_rotation.jpg': [],\n",
       " 'ukbench09268_hflip.jpg': [],\n",
       " 'ukbench09380_resize.jpg': [],\n",
       " 'ukbench09348_resize.jpg': ['ukbench09348_hflip.jpg'],\n",
       " 'ukbench08976_resize.jpg': []}"
      ]
     },
     "execution_count": 4,
     "metadata": {},
     "output_type": "execute_result"
    }
   ],
   "source": [
    "myhasher = Hashing(method='phash')\n",
    "myhasher.find_duplicates(path_or_dict=image_dir, threshold=10)"
   ]
  },
  {
   "cell_type": "markdown",
   "metadata": {},
   "source": [
    "### Get duplicates with hamming distance"
   ]
  },
  {
   "cell_type": "code",
   "execution_count": 5,
   "metadata": {
    "scrolled": false
   },
   "outputs": [
    {
     "name": "stderr",
     "output_type": "stream",
     "text": [
      "2019-07-16 17:37:29,780 imagededup.hashing: INFO Start: Calculating hashes using phash!\n",
      "2019-07-16 17:37:30,087 imagededup.hashing: INFO End: Calculating hashes using phash!\n",
      "2019-07-16 17:37:30,088 imagededup.hashing: INFO Start: Evaluating hamming distances for getting duplicates\n",
      "2019-07-16 17:37:30,089 imagededup.retrieve.retrieval: INFO Start: Retrieving duplicates using BKTree algorithm\n",
      "2019-07-16 17:37:30,089 imagededup.retrieve.retrieval: INFO Start: Retrieving duplicates using BKTree algorithm\n",
      "2019-07-16 17:37:30,105 imagededup.retrieve.retrieval: INFO End: Retrieving duplicates using BKTree algorithm\n",
      "2019-07-16 17:37:30,105 imagededup.retrieve.retrieval: INFO End: Retrieving duplicates using BKTree algorithm\n",
      "2019-07-16 17:37:30,107 imagededup.hashing: INFO End: Evaluating hamming distances for getting duplicates\n"
     ]
    },
    {
     "data": {
      "text/plain": [
       "{'ukbench09268_resize.jpg': {},\n",
       " 'ukbench09040_resize.jpg': {'ukbench09040_hflip.jpg': 8,\n",
       "  'ukbench09040_rotation.jpg': 9},\n",
       " 'ukbench09348_hflip.jpg': {'ukbench09348_resize.jpg': 2},\n",
       " 'ukbench08996_resize.jpg': {},\n",
       " 'ukbench09012_hflip.jpg': {},\n",
       " 'ukbench00120_resize.jpg': {},\n",
       " 'ukbench00120_rotation.jpg': {},\n",
       " 'ukbench09348_rotation.jpg': {},\n",
       " 'ukbench09060_rotation.jpg': {},\n",
       " 'ukbench01380_resize.jpg': {},\n",
       " 'ukbench00120_hflip.jpg': {},\n",
       " 'ukbench01380_rotation.jpg': {},\n",
       " 'ukbench09380_hflip.jpg': {},\n",
       " 'ukbench08976_hflip.jpg': {},\n",
       " 'ukbench09380_rotation.jpg': {},\n",
       " 'ukbench09012_resize.jpg': {},\n",
       " 'ukbench09040_rotation.jpg': {'ukbench09040_resize.jpg': 9},\n",
       " 'ukbench09012_rotation.jpg': {},\n",
       " 'ukbench09040_hflip.jpg': {'ukbench09040_resize.jpg': 8},\n",
       " 'ukbench08996_hflip.jpg': {},\n",
       " 'ukbench09268_rotation.jpg': {},\n",
       " 'ukbench08996_rotation.jpg': {},\n",
       " 'ukbench09060_resize.jpg': {},\n",
       " 'ukbench01380_hflip.jpg': {},\n",
       " 'ukbench09060_hflip.jpg': {},\n",
       " 'ukbench08976_rotation.jpg': {},\n",
       " 'ukbench09268_hflip.jpg': {},\n",
       " 'ukbench09380_resize.jpg': {},\n",
       " 'ukbench09348_resize.jpg': {'ukbench09348_hflip.jpg': 2},\n",
       " 'ukbench08976_resize.jpg': {}}"
      ]
     },
     "execution_count": 5,
     "metadata": {},
     "output_type": "execute_result"
    }
   ],
   "source": [
    "myhasher.find_duplicates(path_or_dict=image_dir, threshold=10, scores=True)"
   ]
  },
  {
   "cell_type": "markdown",
   "metadata": {},
   "source": [
    "### find duplicates using dictionary of filename: hash"
   ]
  },
  {
   "cell_type": "code",
   "execution_count": 6,
   "metadata": {},
   "outputs": [
    {
     "name": "stderr",
     "output_type": "stream",
     "text": [
      "2019-07-16 17:37:30,117 imagededup.hashing: INFO Start: Calculating hashes using phash!\n",
      "2019-07-16 17:37:30,117 imagededup.hashing: INFO Start: Calculating hashes using phash!\n",
      "2019-07-16 17:37:30,414 imagededup.hashing: INFO End: Calculating hashes using phash!\n",
      "2019-07-16 17:37:30,414 imagededup.hashing: INFO End: Calculating hashes using phash!\n"
     ]
    }
   ],
   "source": [
    "myhasher_feat = Hashing(method='phash')\n",
    "hash_dict = myhasher_feat.hash_dir(image_dir)"
   ]
  },
  {
   "cell_type": "code",
   "execution_count": 7,
   "metadata": {},
   "outputs": [
    {
     "name": "stderr",
     "output_type": "stream",
     "text": [
      "2019-07-16 17:37:30,422 imagededup.hashing: INFO Start: Evaluating hamming distances for getting duplicates\n",
      "2019-07-16 17:37:30,422 imagededup.hashing: INFO Start: Evaluating hamming distances for getting duplicates\n",
      "2019-07-16 17:37:30,425 imagededup.retrieve.retrieval: INFO Start: Retrieving duplicates using BKTree algorithm\n",
      "2019-07-16 17:37:30,425 imagededup.retrieve.retrieval: INFO Start: Retrieving duplicates using BKTree algorithm\n",
      "2019-07-16 17:37:30,425 imagededup.retrieve.retrieval: INFO Start: Retrieving duplicates using BKTree algorithm\n",
      "2019-07-16 17:37:30,444 imagededup.retrieve.retrieval: INFO End: Retrieving duplicates using BKTree algorithm\n",
      "2019-07-16 17:37:30,444 imagededup.retrieve.retrieval: INFO End: Retrieving duplicates using BKTree algorithm\n",
      "2019-07-16 17:37:30,444 imagededup.retrieve.retrieval: INFO End: Retrieving duplicates using BKTree algorithm\n",
      "2019-07-16 17:37:30,447 imagededup.hashing: INFO End: Evaluating hamming distances for getting duplicates\n",
      "2019-07-16 17:37:30,447 imagededup.hashing: INFO End: Evaluating hamming distances for getting duplicates\n"
     ]
    },
    {
     "data": {
      "text/plain": [
       "{'ukbench09268_resize.jpg': {},\n",
       " 'ukbench09040_resize.jpg': {'ukbench09040_hflip.jpg': 8,\n",
       "  'ukbench09040_rotation.jpg': 9},\n",
       " 'ukbench09348_hflip.jpg': {'ukbench09348_resize.jpg': 2},\n",
       " 'ukbench08996_resize.jpg': {},\n",
       " 'ukbench09012_hflip.jpg': {},\n",
       " 'ukbench00120_resize.jpg': {},\n",
       " 'ukbench00120_rotation.jpg': {},\n",
       " 'ukbench09348_rotation.jpg': {},\n",
       " 'ukbench09060_rotation.jpg': {},\n",
       " 'ukbench01380_resize.jpg': {},\n",
       " 'ukbench00120_hflip.jpg': {},\n",
       " 'ukbench01380_rotation.jpg': {},\n",
       " 'ukbench09380_hflip.jpg': {},\n",
       " 'ukbench08976_hflip.jpg': {},\n",
       " 'ukbench09380_rotation.jpg': {},\n",
       " 'ukbench09012_resize.jpg': {},\n",
       " 'ukbench09040_rotation.jpg': {'ukbench09040_resize.jpg': 9},\n",
       " 'ukbench09012_rotation.jpg': {},\n",
       " 'ukbench09040_hflip.jpg': {'ukbench09040_resize.jpg': 8},\n",
       " 'ukbench08996_hflip.jpg': {},\n",
       " 'ukbench09268_rotation.jpg': {},\n",
       " 'ukbench08996_rotation.jpg': {},\n",
       " 'ukbench09060_resize.jpg': {},\n",
       " 'ukbench01380_hflip.jpg': {},\n",
       " 'ukbench09060_hflip.jpg': {},\n",
       " 'ukbench08976_rotation.jpg': {},\n",
       " 'ukbench09268_hflip.jpg': {},\n",
       " 'ukbench09380_resize.jpg': {},\n",
       " 'ukbench09348_resize.jpg': {'ukbench09348_hflip.jpg': 2},\n",
       " 'ukbench08976_resize.jpg': {}}"
      ]
     },
     "execution_count": 7,
     "metadata": {},
     "output_type": "execute_result"
    }
   ],
   "source": [
    "myhasher.find_duplicates(path_or_dict=hash_dict, threshold=10, scores=True)"
   ]
  },
  {
   "cell_type": "markdown",
   "metadata": {},
   "source": [
    "### Get only a list of filenames to remove from directory"
   ]
  },
  {
   "cell_type": "code",
   "execution_count": 8,
   "metadata": {},
   "outputs": [
    {
     "name": "stderr",
     "output_type": "stream",
     "text": [
      "2019-07-16 17:37:30,461 imagededup.hashing: INFO Start: Calculating hashes using phash!\n",
      "2019-07-16 17:37:30,461 imagededup.hashing: INFO Start: Calculating hashes using phash!\n",
      "2019-07-16 17:37:30,461 imagededup.hashing: INFO Start: Calculating hashes using phash!\n",
      "2019-07-16 17:37:30,746 imagededup.hashing: INFO End: Calculating hashes using phash!\n",
      "2019-07-16 17:37:30,746 imagededup.hashing: INFO End: Calculating hashes using phash!\n",
      "2019-07-16 17:37:30,746 imagededup.hashing: INFO End: Calculating hashes using phash!\n",
      "2019-07-16 17:37:30,749 imagededup.hashing: INFO Start: Evaluating hamming distances for getting duplicates\n",
      "2019-07-16 17:37:30,749 imagededup.hashing: INFO Start: Evaluating hamming distances for getting duplicates\n",
      "2019-07-16 17:37:30,749 imagededup.hashing: INFO Start: Evaluating hamming distances for getting duplicates\n",
      "2019-07-16 17:37:30,753 imagededup.retrieve.retrieval: INFO Start: Retrieving duplicates using BKTree algorithm\n",
      "2019-07-16 17:37:30,753 imagededup.retrieve.retrieval: INFO Start: Retrieving duplicates using BKTree algorithm\n",
      "2019-07-16 17:37:30,753 imagededup.retrieve.retrieval: INFO Start: Retrieving duplicates using BKTree algorithm\n",
      "2019-07-16 17:37:30,753 imagededup.retrieve.retrieval: INFO Start: Retrieving duplicates using BKTree algorithm\n",
      "2019-07-16 17:37:30,773 imagededup.retrieve.retrieval: INFO End: Retrieving duplicates using BKTree algorithm\n",
      "2019-07-16 17:37:30,773 imagededup.retrieve.retrieval: INFO End: Retrieving duplicates using BKTree algorithm\n",
      "2019-07-16 17:37:30,773 imagededup.retrieve.retrieval: INFO End: Retrieving duplicates using BKTree algorithm\n",
      "2019-07-16 17:37:30,773 imagededup.retrieve.retrieval: INFO End: Retrieving duplicates using BKTree algorithm\n",
      "2019-07-16 17:37:30,776 imagededup.hashing: INFO End: Evaluating hamming distances for getting duplicates\n",
      "2019-07-16 17:37:30,776 imagededup.hashing: INFO End: Evaluating hamming distances for getting duplicates\n",
      "2019-07-16 17:37:30,776 imagededup.hashing: INFO End: Evaluating hamming distances for getting duplicates\n"
     ]
    },
    {
     "data": {
      "text/plain": [
       "['ukbench09040_hflip.jpg',\n",
       " 'ukbench09040_rotation.jpg',\n",
       " 'ukbench09348_resize.jpg']"
      ]
     },
     "execution_count": 8,
     "metadata": {},
     "output_type": "execute_result"
    }
   ],
   "source": [
    "myhasher = Hashing(method='phash')\n",
    "myhasher.find_duplicates_to_remove(path_or_dict=image_dir, threshold=10)"
   ]
  },
  {
   "cell_type": "markdown",
   "metadata": {},
   "source": [
    "# CNN"
   ]
  },
  {
   "cell_type": "code",
   "execution_count": 9,
   "metadata": {},
   "outputs": [
    {
     "name": "stderr",
     "output_type": "stream",
     "text": [
      "Using TensorFlow backend.\n"
     ]
    }
   ],
   "source": [
    "from imagededup.cnn import CNN"
   ]
  },
  {
   "cell_type": "code",
   "execution_count": 10,
   "metadata": {
    "scrolled": true
   },
   "outputs": [
    {
     "name": "stdout",
     "output_type": "stream",
     "text": [
      "WARNING:tensorflow:From /Users/tanuj.jain/anaconda3/envs/dedup_package_env/lib/python3.6/site-packages/tensorflow/python/framework/op_def_library.py:263: colocate_with (from tensorflow.python.framework.ops) is deprecated and will be removed in a future version.\n",
      "Instructions for updating:\n",
      "Colocations handled automatically by placer.\n",
      "WARNING:tensorflow:From /Users/tanuj.jain/anaconda3/envs/dedup_package_env/lib/python3.6/site-packages/keras/backend/tensorflow_backend.py:3445: calling dropout (from tensorflow.python.ops.nn_ops) with keep_prob is deprecated and will be removed in a future version.\n",
      "Instructions for updating:\n",
      "Please use `rate` instead of `keep_prob`. Rate should be set to `rate = 1 - keep_prob`.\n"
     ]
    },
    {
     "name": "stderr",
     "output_type": "stream",
     "text": [
      "2019-07-16 17:37:35,625 imagededup.cnn: INFO Initialized: MobileNet pretrained on ImageNet dataset sliced at Convolutional layer closestto o/p layer\n",
      "2019-07-16 17:37:35,627 imagededup.cnn: INFO Start: Image feature generation\n"
     ]
    },
    {
     "name": "stdout",
     "output_type": "stream",
     "text": [
      "Found 30 images belonging to 1 classes.\n",
      "1/1 [==============================] - 2s 2s/step\n"
     ]
    },
    {
     "name": "stderr",
     "output_type": "stream",
     "text": [
      "2019-07-16 17:37:37,781 imagededup.cnn: INFO Completed: Image feature generation\n",
      "2019-07-16 17:37:37,783 imagededup.cnn: INFO Start: Evaluating similarity for getting duplicates\n",
      "2019-07-16 17:37:37,784 imagededup.retrieve.retrieval: INFO Start: Vector normalization for computing cosine similarity\n",
      "2019-07-16 17:37:37,784 imagededup.retrieve.retrieval: INFO Start: Vector normalization for computing cosine similarity\n",
      "2019-07-16 17:37:37,784 imagededup.retrieve.retrieval: INFO Start: Vector normalization for computing cosine similarity\n",
      "2019-07-16 17:37:37,784 imagededup.retrieve.retrieval: INFO Start: Vector normalization for computing cosine similarity\n",
      "2019-07-16 17:37:37,784 imagededup.retrieve.retrieval: INFO Start: Vector normalization for computing cosine similarity\n",
      "2019-07-16 17:37:37,791 imagededup.retrieve.retrieval: INFO Completed: Vector normalization for computing cosine similarity\n",
      "2019-07-16 17:37:37,791 imagededup.retrieve.retrieval: INFO Completed: Vector normalization for computing cosine similarity\n",
      "2019-07-16 17:37:37,791 imagededup.retrieve.retrieval: INFO Completed: Vector normalization for computing cosine similarity\n",
      "2019-07-16 17:37:37,791 imagededup.retrieve.retrieval: INFO Completed: Vector normalization for computing cosine similarity\n",
      "2019-07-16 17:37:37,791 imagededup.retrieve.retrieval: INFO Completed: Vector normalization for computing cosine similarity\n",
      "2019-07-16 17:37:37,796 imagededup.retrieve.retrieval: INFO Start: Getting duplicates with similarity above threshold = 0.8\n",
      "2019-07-16 17:37:37,796 imagededup.retrieve.retrieval: INFO Start: Getting duplicates with similarity above threshold = 0.8\n",
      "2019-07-16 17:37:37,796 imagededup.retrieve.retrieval: INFO Start: Getting duplicates with similarity above threshold = 0.8\n",
      "2019-07-16 17:37:37,796 imagededup.retrieve.retrieval: INFO Start: Getting duplicates with similarity above threshold = 0.8\n",
      "2019-07-16 17:37:37,796 imagededup.retrieve.retrieval: INFO Start: Getting duplicates with similarity above threshold = 0.8\n",
      "2019-07-16 17:37:37,802 imagededup.retrieve.retrieval: INFO Start: Cosine similarity matrix computation\n",
      "2019-07-16 17:37:37,802 imagededup.retrieve.retrieval: INFO Start: Cosine similarity matrix computation\n",
      "2019-07-16 17:37:37,802 imagededup.retrieve.retrieval: INFO Start: Cosine similarity matrix computation\n",
      "2019-07-16 17:37:37,802 imagededup.retrieve.retrieval: INFO Start: Cosine similarity matrix computation\n",
      "2019-07-16 17:37:37,802 imagededup.retrieve.retrieval: INFO Start: Cosine similarity matrix computation\n",
      "2019-07-16 17:37:37,808 imagededup.retrieve.retrieval: INFO End: Cosine similarity matrix computation\n",
      "2019-07-16 17:37:37,808 imagededup.retrieve.retrieval: INFO End: Cosine similarity matrix computation\n",
      "2019-07-16 17:37:37,808 imagededup.retrieve.retrieval: INFO End: Cosine similarity matrix computation\n",
      "2019-07-16 17:37:37,808 imagededup.retrieve.retrieval: INFO End: Cosine similarity matrix computation\n",
      "2019-07-16 17:37:37,808 imagededup.retrieve.retrieval: INFO End: Cosine similarity matrix computation\n",
      "2019-07-16 17:37:37,814 imagededup.retrieve.retrieval: INFO End: Getting duplicates with similarity above threshold = 0.8\n",
      "2019-07-16 17:37:37,814 imagededup.retrieve.retrieval: INFO End: Getting duplicates with similarity above threshold = 0.8\n",
      "2019-07-16 17:37:37,814 imagededup.retrieve.retrieval: INFO End: Getting duplicates with similarity above threshold = 0.8\n",
      "2019-07-16 17:37:37,814 imagededup.retrieve.retrieval: INFO End: Getting duplicates with similarity above threshold = 0.8\n",
      "2019-07-16 17:37:37,814 imagededup.retrieve.retrieval: INFO End: Getting duplicates with similarity above threshold = 0.8\n",
      "2019-07-16 17:37:37,819 imagededup.cnn: INFO End: Evaluating similarity for getting duplicates\n"
     ]
    },
    {
     "data": {
      "text/plain": [
       "{'ukbench00120_hflip.jpg': ['ukbench00120_resize.jpg',\n",
       "  'ukbench00120_rotation.jpg'],\n",
       " 'ukbench00120_resize.jpg': ['ukbench00120_hflip.jpg'],\n",
       " 'ukbench00120_rotation.jpg': ['ukbench00120_hflip.jpg'],\n",
       " 'ukbench01380_hflip.jpg': ['ukbench01380_resize.jpg'],\n",
       " 'ukbench01380_resize.jpg': ['ukbench01380_hflip.jpg'],\n",
       " 'ukbench01380_rotation.jpg': [],\n",
       " 'ukbench08976_hflip.jpg': ['ukbench08976_resize.jpg',\n",
       "  'ukbench08976_rotation.jpg'],\n",
       " 'ukbench08976_resize.jpg': ['ukbench08976_hflip.jpg',\n",
       "  'ukbench08976_rotation.jpg'],\n",
       " 'ukbench08976_rotation.jpg': ['ukbench08976_hflip.jpg',\n",
       "  'ukbench08976_resize.jpg'],\n",
       " 'ukbench08996_hflip.jpg': ['ukbench08996_resize.jpg'],\n",
       " 'ukbench08996_resize.jpg': ['ukbench08996_hflip.jpg'],\n",
       " 'ukbench08996_rotation.jpg': [],\n",
       " 'ukbench09012_hflip.jpg': ['ukbench09012_resize.jpg'],\n",
       " 'ukbench09012_resize.jpg': ['ukbench09012_hflip.jpg'],\n",
       " 'ukbench09012_rotation.jpg': [],\n",
       " 'ukbench09040_hflip.jpg': ['ukbench09040_resize.jpg',\n",
       "  'ukbench09040_rotation.jpg'],\n",
       " 'ukbench09040_resize.jpg': ['ukbench09040_hflip.jpg',\n",
       "  'ukbench09040_rotation.jpg'],\n",
       " 'ukbench09040_rotation.jpg': ['ukbench09040_hflip.jpg',\n",
       "  'ukbench09040_resize.jpg'],\n",
       " 'ukbench09060_hflip.jpg': ['ukbench09060_resize.jpg',\n",
       "  'ukbench09060_rotation.jpg'],\n",
       " 'ukbench09060_resize.jpg': ['ukbench09060_hflip.jpg'],\n",
       " 'ukbench09060_rotation.jpg': ['ukbench09060_hflip.jpg'],\n",
       " 'ukbench09268_hflip.jpg': ['ukbench09268_resize.jpg',\n",
       "  'ukbench09268_rotation.jpg'],\n",
       " 'ukbench09268_resize.jpg': ['ukbench09268_hflip.jpg',\n",
       "  'ukbench09268_rotation.jpg'],\n",
       " 'ukbench09268_rotation.jpg': ['ukbench09268_hflip.jpg',\n",
       "  'ukbench09268_resize.jpg'],\n",
       " 'ukbench09348_hflip.jpg': ['ukbench09348_resize.jpg',\n",
       "  'ukbench09348_rotation.jpg'],\n",
       " 'ukbench09348_resize.jpg': ['ukbench09348_hflip.jpg',\n",
       "  'ukbench09348_rotation.jpg'],\n",
       " 'ukbench09348_rotation.jpg': ['ukbench09348_hflip.jpg',\n",
       "  'ukbench09348_resize.jpg'],\n",
       " 'ukbench09380_hflip.jpg': ['ukbench09380_resize.jpg',\n",
       "  'ukbench09380_rotation.jpg'],\n",
       " 'ukbench09380_resize.jpg': ['ukbench09380_hflip.jpg'],\n",
       " 'ukbench09380_rotation.jpg': ['ukbench09380_hflip.jpg']}"
      ]
     },
     "execution_count": 10,
     "metadata": {},
     "output_type": "execute_result"
    }
   ],
   "source": [
    "mycnn = CNN()\n",
    "mycnn.find_duplicates(path_or_dict=image_dir, threshold=0.8)"
   ]
  },
  {
   "cell_type": "markdown",
   "metadata": {},
   "source": [
    "### Get duplicates with cosine distance"
   ]
  },
  {
   "cell_type": "code",
   "execution_count": 11,
   "metadata": {},
   "outputs": [
    {
     "name": "stderr",
     "output_type": "stream",
     "text": [
      "2019-07-16 17:38:47,767 imagededup.cnn: INFO Start: Image feature generation\n"
     ]
    },
    {
     "name": "stdout",
     "output_type": "stream",
     "text": [
      "Found 30 images belonging to 1 classes.\n",
      "1/1 [==============================] - 2s 2s/step\n"
     ]
    },
    {
     "name": "stderr",
     "output_type": "stream",
     "text": [
      "2019-07-16 17:38:49,703 imagededup.cnn: INFO Completed: Image feature generation\n",
      "2019-07-16 17:38:49,705 imagededup.cnn: INFO Start: Evaluating similarity for getting duplicates\n",
      "2019-07-16 17:38:49,707 imagededup.retrieve.retrieval: INFO Start: Vector normalization for computing cosine similarity\n",
      "2019-07-16 17:38:49,707 imagededup.retrieve.retrieval: INFO Start: Vector normalization for computing cosine similarity\n",
      "2019-07-16 17:38:49,707 imagededup.retrieve.retrieval: INFO Start: Vector normalization for computing cosine similarity\n",
      "2019-07-16 17:38:49,707 imagededup.retrieve.retrieval: INFO Start: Vector normalization for computing cosine similarity\n",
      "2019-07-16 17:38:49,707 imagededup.retrieve.retrieval: INFO Start: Vector normalization for computing cosine similarity\n",
      "2019-07-16 17:38:49,707 imagededup.retrieve.retrieval: INFO Start: Vector normalization for computing cosine similarity\n",
      "2019-07-16 17:38:49,715 imagededup.retrieve.retrieval: INFO Completed: Vector normalization for computing cosine similarity\n",
      "2019-07-16 17:38:49,715 imagededup.retrieve.retrieval: INFO Completed: Vector normalization for computing cosine similarity\n",
      "2019-07-16 17:38:49,715 imagededup.retrieve.retrieval: INFO Completed: Vector normalization for computing cosine similarity\n",
      "2019-07-16 17:38:49,715 imagededup.retrieve.retrieval: INFO Completed: Vector normalization for computing cosine similarity\n",
      "2019-07-16 17:38:49,715 imagededup.retrieve.retrieval: INFO Completed: Vector normalization for computing cosine similarity\n",
      "2019-07-16 17:38:49,715 imagededup.retrieve.retrieval: INFO Completed: Vector normalization for computing cosine similarity\n",
      "2019-07-16 17:38:49,722 imagededup.retrieve.retrieval: INFO Start: Getting duplicates with similarity above threshold = 0.8\n",
      "2019-07-16 17:38:49,722 imagededup.retrieve.retrieval: INFO Start: Getting duplicates with similarity above threshold = 0.8\n",
      "2019-07-16 17:38:49,722 imagededup.retrieve.retrieval: INFO Start: Getting duplicates with similarity above threshold = 0.8\n",
      "2019-07-16 17:38:49,722 imagededup.retrieve.retrieval: INFO Start: Getting duplicates with similarity above threshold = 0.8\n",
      "2019-07-16 17:38:49,722 imagededup.retrieve.retrieval: INFO Start: Getting duplicates with similarity above threshold = 0.8\n",
      "2019-07-16 17:38:49,722 imagededup.retrieve.retrieval: INFO Start: Getting duplicates with similarity above threshold = 0.8\n",
      "2019-07-16 17:38:49,733 imagededup.retrieve.retrieval: INFO Start: Cosine similarity matrix computation\n",
      "2019-07-16 17:38:49,733 imagededup.retrieve.retrieval: INFO Start: Cosine similarity matrix computation\n",
      "2019-07-16 17:38:49,733 imagededup.retrieve.retrieval: INFO Start: Cosine similarity matrix computation\n",
      "2019-07-16 17:38:49,733 imagededup.retrieve.retrieval: INFO Start: Cosine similarity matrix computation\n",
      "2019-07-16 17:38:49,733 imagededup.retrieve.retrieval: INFO Start: Cosine similarity matrix computation\n",
      "2019-07-16 17:38:49,733 imagededup.retrieve.retrieval: INFO Start: Cosine similarity matrix computation\n",
      "2019-07-16 17:38:49,743 imagededup.retrieve.retrieval: INFO End: Cosine similarity matrix computation\n",
      "2019-07-16 17:38:49,743 imagededup.retrieve.retrieval: INFO End: Cosine similarity matrix computation\n",
      "2019-07-16 17:38:49,743 imagededup.retrieve.retrieval: INFO End: Cosine similarity matrix computation\n",
      "2019-07-16 17:38:49,743 imagededup.retrieve.retrieval: INFO End: Cosine similarity matrix computation\n",
      "2019-07-16 17:38:49,743 imagededup.retrieve.retrieval: INFO End: Cosine similarity matrix computation\n",
      "2019-07-16 17:38:49,743 imagededup.retrieve.retrieval: INFO End: Cosine similarity matrix computation\n",
      "2019-07-16 17:38:49,750 imagededup.retrieve.retrieval: INFO End: Getting duplicates with similarity above threshold = 0.8\n",
      "2019-07-16 17:38:49,750 imagededup.retrieve.retrieval: INFO End: Getting duplicates with similarity above threshold = 0.8\n",
      "2019-07-16 17:38:49,750 imagededup.retrieve.retrieval: INFO End: Getting duplicates with similarity above threshold = 0.8\n",
      "2019-07-16 17:38:49,750 imagededup.retrieve.retrieval: INFO End: Getting duplicates with similarity above threshold = 0.8\n",
      "2019-07-16 17:38:49,750 imagededup.retrieve.retrieval: INFO End: Getting duplicates with similarity above threshold = 0.8\n",
      "2019-07-16 17:38:49,750 imagededup.retrieve.retrieval: INFO End: Getting duplicates with similarity above threshold = 0.8\n",
      "2019-07-16 17:38:49,758 imagededup.cnn: INFO End: Evaluating similarity for getting duplicates\n"
     ]
    },
    {
     "data": {
      "text/plain": [
       "{'ukbench00120_hflip.jpg': {'ukbench00120_resize.jpg': 1.0000005,\n",
       "  'ukbench00120_rotation.jpg': 0.9487623},\n",
       " 'ukbench00120_resize.jpg': {'ukbench00120_hflip.jpg': 0.9487623},\n",
       " 'ukbench00120_rotation.jpg': {'ukbench00120_hflip.jpg': 0.8122288},\n",
       " 'ukbench01380_hflip.jpg': {'ukbench01380_resize.jpg': 1.0},\n",
       " 'ukbench01380_resize.jpg': {'ukbench01380_hflip.jpg': 0.8795954},\n",
       " 'ukbench01380_rotation.jpg': {},\n",
       " 'ukbench08976_hflip.jpg': {'ukbench08976_resize.jpg': 0.9999999,\n",
       "  'ukbench08976_rotation.jpg': 0.953313},\n",
       " 'ukbench08976_resize.jpg': {'ukbench08976_hflip.jpg': 0.953313,\n",
       "  'ukbench08976_rotation.jpg': 0.9999999},\n",
       " 'ukbench08976_rotation.jpg': {'ukbench08976_hflip.jpg': 0.8549181,\n",
       "  'ukbench08976_resize.jpg': 0.8067338},\n",
       " 'ukbench08996_hflip.jpg': {'ukbench08996_resize.jpg': 1.0},\n",
       " 'ukbench08996_resize.jpg': {'ukbench08996_hflip.jpg': 0.92135954},\n",
       " 'ukbench08996_rotation.jpg': {},\n",
       " 'ukbench09012_hflip.jpg': {'ukbench09012_resize.jpg': 0.99999976},\n",
       " 'ukbench09012_resize.jpg': {'ukbench09012_hflip.jpg': 0.93425333},\n",
       " 'ukbench09012_rotation.jpg': {},\n",
       " 'ukbench09040_hflip.jpg': {'ukbench09040_resize.jpg': 1.0,\n",
       "  'ukbench09040_rotation.jpg': 0.954862},\n",
       " 'ukbench09040_resize.jpg': {'ukbench09040_hflip.jpg': 0.954862,\n",
       "  'ukbench09040_rotation.jpg': 1.0000001},\n",
       " 'ukbench09040_rotation.jpg': {'ukbench09040_hflip.jpg': 0.89182985,\n",
       "  'ukbench09040_resize.jpg': 0.8933705},\n",
       " 'ukbench09060_hflip.jpg': {'ukbench09060_resize.jpg': 1.0000001,\n",
       "  'ukbench09060_rotation.jpg': 0.93873644},\n",
       " 'ukbench09060_resize.jpg': {'ukbench09060_hflip.jpg': 0.93873644},\n",
       " 'ukbench09060_rotation.jpg': {'ukbench09060_hflip.jpg': 0.8224397},\n",
       " 'ukbench09268_hflip.jpg': {'ukbench09268_resize.jpg': 1.0000001,\n",
       "  'ukbench09268_rotation.jpg': 0.9329699},\n",
       " 'ukbench09268_resize.jpg': {'ukbench09268_hflip.jpg': 0.9329699,\n",
       "  'ukbench09268_rotation.jpg': 0.9999999},\n",
       " 'ukbench09268_rotation.jpg': {'ukbench09268_hflip.jpg': 0.86980325,\n",
       "  'ukbench09268_resize.jpg': 0.8481444},\n",
       " 'ukbench09348_hflip.jpg': {'ukbench09348_resize.jpg': 1.0,\n",
       "  'ukbench09348_rotation.jpg': 0.9665935},\n",
       " 'ukbench09348_resize.jpg': {'ukbench09348_hflip.jpg': 0.9665935,\n",
       "  'ukbench09348_rotation.jpg': 0.99999994},\n",
       " 'ukbench09348_rotation.jpg': {'ukbench09348_hflip.jpg': 0.8736247,\n",
       "  'ukbench09348_resize.jpg': 0.8458784},\n",
       " 'ukbench09380_hflip.jpg': {'ukbench09380_resize.jpg': 1.0,\n",
       "  'ukbench09380_rotation.jpg': 0.9597472},\n",
       " 'ukbench09380_resize.jpg': {'ukbench09380_hflip.jpg': 0.9597472},\n",
       " 'ukbench09380_rotation.jpg': {'ukbench09380_hflip.jpg': 0.8020535}}"
      ]
     },
     "execution_count": 11,
     "metadata": {},
     "output_type": "execute_result"
    }
   ],
   "source": [
    "mycnn.find_duplicates(path_or_dict=image_dir, threshold=0.8, scores=True)"
   ]
  },
  {
   "cell_type": "markdown",
   "metadata": {},
   "source": [
    "### find duplicates using dictionary of filename: cnn_features"
   ]
  },
  {
   "cell_type": "code",
   "execution_count": 13,
   "metadata": {},
   "outputs": [
    {
     "name": "stderr",
     "output_type": "stream",
     "text": [
      "2019-07-16 17:40:15,974 imagededup.cnn: INFO Initialized: MobileNet pretrained on ImageNet dataset sliced at Convolutional layer closestto o/p layer\n",
      "2019-07-16 17:40:15,974 imagededup.cnn: INFO Initialized: MobileNet pretrained on ImageNet dataset sliced at Convolutional layer closestto o/p layer\n",
      "2019-07-16 17:40:15,977 imagededup.cnn: INFO Start: Image feature generation\n",
      "2019-07-16 17:40:15,977 imagededup.cnn: INFO Start: Image feature generation\n"
     ]
    },
    {
     "name": "stdout",
     "output_type": "stream",
     "text": [
      "Found 30 images belonging to 1 classes.\n",
      "1/1 [==============================] - 2s 2s/step\n"
     ]
    },
    {
     "name": "stderr",
     "output_type": "stream",
     "text": [
      "2019-07-16 17:40:18,303 imagededup.cnn: INFO Completed: Image feature generation\n",
      "2019-07-16 17:40:18,303 imagededup.cnn: INFO Completed: Image feature generation\n"
     ]
    }
   ],
   "source": [
    "mycnn_feat = CNN()\n",
    "cnn_feature_dict = mycnn_feat.cnn_dir(image_dir)"
   ]
  },
  {
   "cell_type": "code",
   "execution_count": 15,
   "metadata": {},
   "outputs": [
    {
     "name": "stderr",
     "output_type": "stream",
     "text": [
      "2019-07-16 17:42:14,452 imagededup.cnn: INFO Start: Evaluating similarity for getting duplicates\n",
      "2019-07-16 17:42:14,452 imagededup.cnn: INFO Start: Evaluating similarity for getting duplicates\n",
      "2019-07-16 17:42:14,455 imagededup.retrieve.retrieval: INFO Start: Vector normalization for computing cosine similarity\n",
      "2019-07-16 17:42:14,455 imagededup.retrieve.retrieval: INFO Start: Vector normalization for computing cosine similarity\n",
      "2019-07-16 17:42:14,455 imagededup.retrieve.retrieval: INFO Start: Vector normalization for computing cosine similarity\n",
      "2019-07-16 17:42:14,455 imagededup.retrieve.retrieval: INFO Start: Vector normalization for computing cosine similarity\n",
      "2019-07-16 17:42:14,455 imagededup.retrieve.retrieval: INFO Start: Vector normalization for computing cosine similarity\n",
      "2019-07-16 17:42:14,455 imagededup.retrieve.retrieval: INFO Start: Vector normalization for computing cosine similarity\n",
      "2019-07-16 17:42:14,455 imagededup.retrieve.retrieval: INFO Start: Vector normalization for computing cosine similarity\n",
      "2019-07-16 17:42:14,463 imagededup.retrieve.retrieval: INFO Completed: Vector normalization for computing cosine similarity\n",
      "2019-07-16 17:42:14,463 imagededup.retrieve.retrieval: INFO Completed: Vector normalization for computing cosine similarity\n",
      "2019-07-16 17:42:14,463 imagededup.retrieve.retrieval: INFO Completed: Vector normalization for computing cosine similarity\n",
      "2019-07-16 17:42:14,463 imagededup.retrieve.retrieval: INFO Completed: Vector normalization for computing cosine similarity\n",
      "2019-07-16 17:42:14,463 imagededup.retrieve.retrieval: INFO Completed: Vector normalization for computing cosine similarity\n",
      "2019-07-16 17:42:14,463 imagededup.retrieve.retrieval: INFO Completed: Vector normalization for computing cosine similarity\n",
      "2019-07-16 17:42:14,463 imagededup.retrieve.retrieval: INFO Completed: Vector normalization for computing cosine similarity\n",
      "2019-07-16 17:42:14,471 imagededup.retrieve.retrieval: INFO Start: Getting duplicates with similarity above threshold = 0.8\n",
      "2019-07-16 17:42:14,471 imagededup.retrieve.retrieval: INFO Start: Getting duplicates with similarity above threshold = 0.8\n",
      "2019-07-16 17:42:14,471 imagededup.retrieve.retrieval: INFO Start: Getting duplicates with similarity above threshold = 0.8\n",
      "2019-07-16 17:42:14,471 imagededup.retrieve.retrieval: INFO Start: Getting duplicates with similarity above threshold = 0.8\n",
      "2019-07-16 17:42:14,471 imagededup.retrieve.retrieval: INFO Start: Getting duplicates with similarity above threshold = 0.8\n",
      "2019-07-16 17:42:14,471 imagededup.retrieve.retrieval: INFO Start: Getting duplicates with similarity above threshold = 0.8\n",
      "2019-07-16 17:42:14,471 imagededup.retrieve.retrieval: INFO Start: Getting duplicates with similarity above threshold = 0.8\n",
      "2019-07-16 17:42:14,478 imagededup.retrieve.retrieval: INFO Start: Cosine similarity matrix computation\n",
      "2019-07-16 17:42:14,478 imagededup.retrieve.retrieval: INFO Start: Cosine similarity matrix computation\n",
      "2019-07-16 17:42:14,478 imagededup.retrieve.retrieval: INFO Start: Cosine similarity matrix computation\n",
      "2019-07-16 17:42:14,478 imagededup.retrieve.retrieval: INFO Start: Cosine similarity matrix computation\n",
      "2019-07-16 17:42:14,478 imagededup.retrieve.retrieval: INFO Start: Cosine similarity matrix computation\n",
      "2019-07-16 17:42:14,478 imagededup.retrieve.retrieval: INFO Start: Cosine similarity matrix computation\n",
      "2019-07-16 17:42:14,478 imagededup.retrieve.retrieval: INFO Start: Cosine similarity matrix computation\n",
      "2019-07-16 17:42:14,485 imagededup.retrieve.retrieval: INFO End: Cosine similarity matrix computation\n",
      "2019-07-16 17:42:14,485 imagededup.retrieve.retrieval: INFO End: Cosine similarity matrix computation\n",
      "2019-07-16 17:42:14,485 imagededup.retrieve.retrieval: INFO End: Cosine similarity matrix computation\n",
      "2019-07-16 17:42:14,485 imagededup.retrieve.retrieval: INFO End: Cosine similarity matrix computation\n",
      "2019-07-16 17:42:14,485 imagededup.retrieve.retrieval: INFO End: Cosine similarity matrix computation\n",
      "2019-07-16 17:42:14,485 imagededup.retrieve.retrieval: INFO End: Cosine similarity matrix computation\n",
      "2019-07-16 17:42:14,485 imagededup.retrieve.retrieval: INFO End: Cosine similarity matrix computation\n",
      "2019-07-16 17:42:14,492 imagededup.retrieve.retrieval: INFO End: Getting duplicates with similarity above threshold = 0.8\n",
      "2019-07-16 17:42:14,492 imagededup.retrieve.retrieval: INFO End: Getting duplicates with similarity above threshold = 0.8\n",
      "2019-07-16 17:42:14,492 imagededup.retrieve.retrieval: INFO End: Getting duplicates with similarity above threshold = 0.8\n",
      "2019-07-16 17:42:14,492 imagededup.retrieve.retrieval: INFO End: Getting duplicates with similarity above threshold = 0.8\n",
      "2019-07-16 17:42:14,492 imagededup.retrieve.retrieval: INFO End: Getting duplicates with similarity above threshold = 0.8\n",
      "2019-07-16 17:42:14,492 imagededup.retrieve.retrieval: INFO End: Getting duplicates with similarity above threshold = 0.8\n",
      "2019-07-16 17:42:14,492 imagededup.retrieve.retrieval: INFO End: Getting duplicates with similarity above threshold = 0.8\n",
      "2019-07-16 17:42:14,499 imagededup.cnn: INFO End: Evaluating similarity for getting duplicates\n",
      "2019-07-16 17:42:14,499 imagededup.cnn: INFO End: Evaluating similarity for getting duplicates\n"
     ]
    },
    {
     "data": {
      "text/plain": [
       "{'ukbench00120_hflip.jpg': {'ukbench00120_resize.jpg': 1.0000005,\n",
       "  'ukbench00120_rotation.jpg': 0.9487623},\n",
       " 'ukbench00120_resize.jpg': {'ukbench00120_hflip.jpg': 0.9487623},\n",
       " 'ukbench00120_rotation.jpg': {'ukbench00120_hflip.jpg': 0.8122288},\n",
       " 'ukbench01380_hflip.jpg': {'ukbench01380_resize.jpg': 1.0},\n",
       " 'ukbench01380_resize.jpg': {'ukbench01380_hflip.jpg': 0.8795954},\n",
       " 'ukbench01380_rotation.jpg': {},\n",
       " 'ukbench08976_hflip.jpg': {'ukbench08976_resize.jpg': 0.9999999,\n",
       "  'ukbench08976_rotation.jpg': 0.953313},\n",
       " 'ukbench08976_resize.jpg': {'ukbench08976_hflip.jpg': 0.953313,\n",
       "  'ukbench08976_rotation.jpg': 0.9999999},\n",
       " 'ukbench08976_rotation.jpg': {'ukbench08976_hflip.jpg': 0.8549181,\n",
       "  'ukbench08976_resize.jpg': 0.8067338},\n",
       " 'ukbench08996_hflip.jpg': {'ukbench08996_resize.jpg': 1.0},\n",
       " 'ukbench08996_resize.jpg': {'ukbench08996_hflip.jpg': 0.92135954},\n",
       " 'ukbench08996_rotation.jpg': {},\n",
       " 'ukbench09012_hflip.jpg': {'ukbench09012_resize.jpg': 0.99999976},\n",
       " 'ukbench09012_resize.jpg': {'ukbench09012_hflip.jpg': 0.93425333},\n",
       " 'ukbench09012_rotation.jpg': {},\n",
       " 'ukbench09040_hflip.jpg': {'ukbench09040_resize.jpg': 1.0,\n",
       "  'ukbench09040_rotation.jpg': 0.954862},\n",
       " 'ukbench09040_resize.jpg': {'ukbench09040_hflip.jpg': 0.954862,\n",
       "  'ukbench09040_rotation.jpg': 1.0000001},\n",
       " 'ukbench09040_rotation.jpg': {'ukbench09040_hflip.jpg': 0.89182985,\n",
       "  'ukbench09040_resize.jpg': 0.8933705},\n",
       " 'ukbench09060_hflip.jpg': {'ukbench09060_resize.jpg': 1.0000001,\n",
       "  'ukbench09060_rotation.jpg': 0.93873644},\n",
       " 'ukbench09060_resize.jpg': {'ukbench09060_hflip.jpg': 0.93873644},\n",
       " 'ukbench09060_rotation.jpg': {'ukbench09060_hflip.jpg': 0.8224397},\n",
       " 'ukbench09268_hflip.jpg': {'ukbench09268_resize.jpg': 1.0000001,\n",
       "  'ukbench09268_rotation.jpg': 0.9329699},\n",
       " 'ukbench09268_resize.jpg': {'ukbench09268_hflip.jpg': 0.9329699,\n",
       "  'ukbench09268_rotation.jpg': 0.9999999},\n",
       " 'ukbench09268_rotation.jpg': {'ukbench09268_hflip.jpg': 0.86980325,\n",
       "  'ukbench09268_resize.jpg': 0.8481444},\n",
       " 'ukbench09348_hflip.jpg': {'ukbench09348_resize.jpg': 1.0,\n",
       "  'ukbench09348_rotation.jpg': 0.9665935},\n",
       " 'ukbench09348_resize.jpg': {'ukbench09348_hflip.jpg': 0.9665935,\n",
       "  'ukbench09348_rotation.jpg': 0.99999994},\n",
       " 'ukbench09348_rotation.jpg': {'ukbench09348_hflip.jpg': 0.8736247,\n",
       "  'ukbench09348_resize.jpg': 0.8458784},\n",
       " 'ukbench09380_hflip.jpg': {'ukbench09380_resize.jpg': 1.0,\n",
       "  'ukbench09380_rotation.jpg': 0.9597472},\n",
       " 'ukbench09380_resize.jpg': {'ukbench09380_hflip.jpg': 0.9597472},\n",
       " 'ukbench09380_rotation.jpg': {'ukbench09380_hflip.jpg': 0.8020535}}"
      ]
     },
     "execution_count": 15,
     "metadata": {},
     "output_type": "execute_result"
    }
   ],
   "source": [
    "mycnn.find_duplicates(path_or_dict=cnn_feature_dict, scores=True)"
   ]
  },
  {
   "cell_type": "markdown",
   "metadata": {},
   "source": [
    "### Get only a list of filenames to remove from directory"
   ]
  },
  {
   "cell_type": "code",
   "execution_count": 16,
   "metadata": {},
   "outputs": [
    {
     "name": "stderr",
     "output_type": "stream",
     "text": [
      "2019-07-16 17:43:31,216 imagededup.cnn: INFO Initialized: MobileNet pretrained on ImageNet dataset sliced at Convolutional layer closestto o/p layer\n",
      "2019-07-16 17:43:31,216 imagededup.cnn: INFO Initialized: MobileNet pretrained on ImageNet dataset sliced at Convolutional layer closestto o/p layer\n",
      "2019-07-16 17:43:31,216 imagededup.cnn: INFO Initialized: MobileNet pretrained on ImageNet dataset sliced at Convolutional layer closestto o/p layer\n",
      "2019-07-16 17:43:31,220 imagededup.cnn: INFO Start: Image feature generation\n",
      "2019-07-16 17:43:31,220 imagededup.cnn: INFO Start: Image feature generation\n",
      "2019-07-16 17:43:31,220 imagededup.cnn: INFO Start: Image feature generation\n"
     ]
    },
    {
     "name": "stdout",
     "output_type": "stream",
     "text": [
      "Found 30 images belonging to 1 classes.\n",
      "1/1 [==============================] - 2s 2s/step\n"
     ]
    },
    {
     "name": "stderr",
     "output_type": "stream",
     "text": [
      "2019-07-16 17:43:33,653 imagededup.cnn: INFO Completed: Image feature generation\n",
      "2019-07-16 17:43:33,653 imagededup.cnn: INFO Completed: Image feature generation\n",
      "2019-07-16 17:43:33,653 imagededup.cnn: INFO Completed: Image feature generation\n",
      "2019-07-16 17:43:33,658 imagededup.cnn: INFO Start: Evaluating similarity for getting duplicates\n",
      "2019-07-16 17:43:33,658 imagededup.cnn: INFO Start: Evaluating similarity for getting duplicates\n",
      "2019-07-16 17:43:33,658 imagededup.cnn: INFO Start: Evaluating similarity for getting duplicates\n",
      "2019-07-16 17:43:33,662 imagededup.retrieve.retrieval: INFO Start: Vector normalization for computing cosine similarity\n",
      "2019-07-16 17:43:33,662 imagededup.retrieve.retrieval: INFO Start: Vector normalization for computing cosine similarity\n",
      "2019-07-16 17:43:33,662 imagededup.retrieve.retrieval: INFO Start: Vector normalization for computing cosine similarity\n",
      "2019-07-16 17:43:33,662 imagededup.retrieve.retrieval: INFO Start: Vector normalization for computing cosine similarity\n",
      "2019-07-16 17:43:33,662 imagededup.retrieve.retrieval: INFO Start: Vector normalization for computing cosine similarity\n",
      "2019-07-16 17:43:33,662 imagededup.retrieve.retrieval: INFO Start: Vector normalization for computing cosine similarity\n",
      "2019-07-16 17:43:33,662 imagededup.retrieve.retrieval: INFO Start: Vector normalization for computing cosine similarity\n",
      "2019-07-16 17:43:33,662 imagededup.retrieve.retrieval: INFO Start: Vector normalization for computing cosine similarity\n",
      "2019-07-16 17:43:33,670 imagededup.retrieve.retrieval: INFO Completed: Vector normalization for computing cosine similarity\n",
      "2019-07-16 17:43:33,670 imagededup.retrieve.retrieval: INFO Completed: Vector normalization for computing cosine similarity\n",
      "2019-07-16 17:43:33,670 imagededup.retrieve.retrieval: INFO Completed: Vector normalization for computing cosine similarity\n",
      "2019-07-16 17:43:33,670 imagededup.retrieve.retrieval: INFO Completed: Vector normalization for computing cosine similarity\n",
      "2019-07-16 17:43:33,670 imagededup.retrieve.retrieval: INFO Completed: Vector normalization for computing cosine similarity\n",
      "2019-07-16 17:43:33,670 imagededup.retrieve.retrieval: INFO Completed: Vector normalization for computing cosine similarity\n",
      "2019-07-16 17:43:33,670 imagededup.retrieve.retrieval: INFO Completed: Vector normalization for computing cosine similarity\n",
      "2019-07-16 17:43:33,670 imagededup.retrieve.retrieval: INFO Completed: Vector normalization for computing cosine similarity\n",
      "2019-07-16 17:43:33,681 imagededup.retrieve.retrieval: INFO Start: Getting duplicates with similarity above threshold = 0.8\n",
      "2019-07-16 17:43:33,681 imagededup.retrieve.retrieval: INFO Start: Getting duplicates with similarity above threshold = 0.8\n",
      "2019-07-16 17:43:33,681 imagededup.retrieve.retrieval: INFO Start: Getting duplicates with similarity above threshold = 0.8\n",
      "2019-07-16 17:43:33,681 imagededup.retrieve.retrieval: INFO Start: Getting duplicates with similarity above threshold = 0.8\n",
      "2019-07-16 17:43:33,681 imagededup.retrieve.retrieval: INFO Start: Getting duplicates with similarity above threshold = 0.8\n",
      "2019-07-16 17:43:33,681 imagededup.retrieve.retrieval: INFO Start: Getting duplicates with similarity above threshold = 0.8\n",
      "2019-07-16 17:43:33,681 imagededup.retrieve.retrieval: INFO Start: Getting duplicates with similarity above threshold = 0.8\n",
      "2019-07-16 17:43:33,681 imagededup.retrieve.retrieval: INFO Start: Getting duplicates with similarity above threshold = 0.8\n",
      "2019-07-16 17:43:33,692 imagededup.retrieve.retrieval: INFO Start: Cosine similarity matrix computation\n",
      "2019-07-16 17:43:33,692 imagededup.retrieve.retrieval: INFO Start: Cosine similarity matrix computation\n",
      "2019-07-16 17:43:33,692 imagededup.retrieve.retrieval: INFO Start: Cosine similarity matrix computation\n",
      "2019-07-16 17:43:33,692 imagededup.retrieve.retrieval: INFO Start: Cosine similarity matrix computation\n",
      "2019-07-16 17:43:33,692 imagededup.retrieve.retrieval: INFO Start: Cosine similarity matrix computation\n",
      "2019-07-16 17:43:33,692 imagededup.retrieve.retrieval: INFO Start: Cosine similarity matrix computation\n",
      "2019-07-16 17:43:33,692 imagededup.retrieve.retrieval: INFO Start: Cosine similarity matrix computation\n",
      "2019-07-16 17:43:33,692 imagededup.retrieve.retrieval: INFO Start: Cosine similarity matrix computation\n",
      "2019-07-16 17:43:33,699 imagededup.retrieve.retrieval: INFO End: Cosine similarity matrix computation\n",
      "2019-07-16 17:43:33,699 imagededup.retrieve.retrieval: INFO End: Cosine similarity matrix computation\n",
      "2019-07-16 17:43:33,699 imagededup.retrieve.retrieval: INFO End: Cosine similarity matrix computation\n",
      "2019-07-16 17:43:33,699 imagededup.retrieve.retrieval: INFO End: Cosine similarity matrix computation\n",
      "2019-07-16 17:43:33,699 imagededup.retrieve.retrieval: INFO End: Cosine similarity matrix computation\n",
      "2019-07-16 17:43:33,699 imagededup.retrieve.retrieval: INFO End: Cosine similarity matrix computation\n",
      "2019-07-16 17:43:33,699 imagededup.retrieve.retrieval: INFO End: Cosine similarity matrix computation\n",
      "2019-07-16 17:43:33,699 imagededup.retrieve.retrieval: INFO End: Cosine similarity matrix computation\n",
      "2019-07-16 17:43:33,708 imagededup.retrieve.retrieval: INFO End: Getting duplicates with similarity above threshold = 0.8\n",
      "2019-07-16 17:43:33,708 imagededup.retrieve.retrieval: INFO End: Getting duplicates with similarity above threshold = 0.8\n",
      "2019-07-16 17:43:33,708 imagededup.retrieve.retrieval: INFO End: Getting duplicates with similarity above threshold = 0.8\n",
      "2019-07-16 17:43:33,708 imagededup.retrieve.retrieval: INFO End: Getting duplicates with similarity above threshold = 0.8\n",
      "2019-07-16 17:43:33,708 imagededup.retrieve.retrieval: INFO End: Getting duplicates with similarity above threshold = 0.8\n",
      "2019-07-16 17:43:33,708 imagededup.retrieve.retrieval: INFO End: Getting duplicates with similarity above threshold = 0.8\n",
      "2019-07-16 17:43:33,708 imagededup.retrieve.retrieval: INFO End: Getting duplicates with similarity above threshold = 0.8\n",
      "2019-07-16 17:43:33,708 imagededup.retrieve.retrieval: INFO End: Getting duplicates with similarity above threshold = 0.8\n",
      "2019-07-16 17:43:33,717 imagededup.cnn: INFO End: Evaluating similarity for getting duplicates\n",
      "2019-07-16 17:43:33,717 imagededup.cnn: INFO End: Evaluating similarity for getting duplicates\n",
      "2019-07-16 17:43:33,717 imagededup.cnn: INFO End: Evaluating similarity for getting duplicates\n"
     ]
    },
    {
     "data": {
      "text/plain": [
       "['ukbench08976_rotation.jpg',\n",
       " 'ukbench09012_resize.jpg',\n",
       " 'ukbench09040_rotation.jpg',\n",
       " 'ukbench09380_resize.jpg',\n",
       " 'ukbench00120_resize.jpg',\n",
       " 'ukbench09040_resize.jpg',\n",
       " 'ukbench09268_rotation.jpg',\n",
       " 'ukbench09348_resize.jpg',\n",
       " 'ukbench08996_resize.jpg',\n",
       " 'ukbench09380_rotation.jpg',\n",
       " 'ukbench00120_rotation.jpg',\n",
       " 'ukbench01380_resize.jpg',\n",
       " 'ukbench09268_resize.jpg',\n",
       " 'ukbench08976_resize.jpg',\n",
       " 'ukbench09060_rotation.jpg',\n",
       " 'ukbench09348_rotation.jpg',\n",
       " 'ukbench09060_resize.jpg']"
      ]
     },
     "execution_count": 16,
     "metadata": {},
     "output_type": "execute_result"
    }
   ],
   "source": [
    "mycnn = CNN()\n",
    "mycnn.find_duplicates_to_remove(path_or_dict=image_dir, threshold=0.8)"
   ]
  }
 ],
 "metadata": {
  "kernelspec": {
   "display_name": "Python 3",
   "language": "python",
   "name": "python3"
  },
  "language_info": {
   "codemirror_mode": {
    "name": "ipython",
    "version": 3
   },
   "file_extension": ".py",
   "mimetype": "text/x-python",
   "name": "python",
   "nbconvert_exporter": "python",
   "pygments_lexer": "ipython3",
   "version": "3.6.8"
  }
 },
 "nbformat": 4,
 "nbformat_minor": 2
}
