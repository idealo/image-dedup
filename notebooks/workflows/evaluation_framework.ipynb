{
 "cells": [
  {
   "cell_type": "code",
   "execution_count": 1,
   "metadata": {},
   "outputs": [],
   "source": [
    "from imagededup.hashing import Hashing\n",
    "from imagededup.retrieve.retrieval import HashEval\n",
    "from imagededup.evaluation import EvalPerformance\n",
    "from pickle import load as pickle_loader\n",
    "from datetime import datetime\n",
    "from pathlib import Path\n",
    "\n",
    "QUERY_PATH = Path('/Users/tanuj.jain/Documents/dedup-data/Transformed_dataset/Query')\n",
    "TEST_PATH = Path('/Users/tanuj.jain/Documents/dedup-data/Transformed_dataset/Retrieval')\n",
    "GOLD_PATH = Path('/Users/tanuj.jain/Documents/dedup-data/Transformed_dataset/ground_truth_transformed.pkl')"
   ]
  },
  {
   "cell_type": "code",
   "execution_count": 2,
   "metadata": {},
   "outputs": [
    {
     "name": "stderr",
     "output_type": "stream",
     "text": [
      "2019-07-16 18:57:02,917 imagededup.hashing: INFO Start: Calculating hashes using phash!\n",
      "2019-07-16 18:57:36,712 imagededup.hashing: INFO End: Calculating hashes using phash!\n"
     ]
    },
    {
     "name": "stdout",
     "output_type": "stream",
     "text": [
      "Stage 1: FINGEPRINTING query completed in 33.854523 seconds\n"
     ]
    },
    {
     "name": "stderr",
     "output_type": "stream",
     "text": [
      "2019-07-16 18:57:36,992 imagededup.hashing: INFO Start: Calculating hashes using phash!\n",
      "2019-07-16 18:59:49,801 imagededup.hashing: INFO End: Calculating hashes using phash!\n",
      "2019-07-16 18:59:49,805 imagededup.retrieve.retrieval: INFO Start: Retrieving duplicates using BKTree algorithm\n"
     ]
    },
    {
     "name": "stdout",
     "output_type": "stream",
     "text": [
      "Stage 1: FINGEPRINTING test completed in 133.09078 seconds\n"
     ]
    },
    {
     "name": "stderr",
     "output_type": "stream",
     "text": [
      "2019-07-16 19:07:07,604 imagededup.retrieve.retrieval: INFO End: Retrieving duplicates using BKTree algorithm\n"
     ]
    },
    {
     "name": "stdout",
     "output_type": "stream",
     "text": [
      "Stage 2: SEARCH & RETRIEVAL completed in 437.804258 seconds\n"
     ]
    }
   ],
   "source": [
    "hasher = Hashing(method='phash')\n",
    "start = datetime.utcnow()\n",
    "hash_dict_query = hasher.hash_dir(QUERY_PATH)\n",
    "print(f'Stage 1: FINGEPRINTING query completed in {(datetime.utcnow() - start).total_seconds()} seconds')\n",
    "\n",
    "start = datetime.utcnow()\n",
    "hash_dict_test = hasher.hash_dir(TEST_PATH)\n",
    "print(f'Stage 1: FINGEPRINTING test completed in {(datetime.utcnow() - start).total_seconds()} seconds')\n",
    "\n",
    "start = datetime.utcnow()\n",
    "rs = HashEval(test=hash_dict_test, queries=hash_dict_query, hammer=hasher.hamming_distance, cutoff=13)\n",
    "returned_dict = rs.retrieve_result_list()\n",
    "print(f'Stage 2: SEARCH & RETRIEVAL completed in {(datetime.utcnow() - start).total_seconds()} seconds')"
   ]
  },
  {
   "cell_type": "code",
   "execution_count": 3,
   "metadata": {},
   "outputs": [],
   "source": [
    "with open(GOLD_PATH, 'rb') as buf:\n",
    "    correct_dict = pickle_loader(buf)"
   ]
  },
  {
   "cell_type": "code",
   "execution_count": 4,
   "metadata": {},
   "outputs": [
    {
     "name": "stdout",
     "output_type": "stream",
     "text": [
      "MAP\t0.2660700316365833\n",
      "NDCG\t0.8179152264209751\n",
      "Jaccard\t0.21795808562656768\n"
     ]
    }
   ],
   "source": [
    "evaluator = EvalPerformance(correct_dict, returned_dict)\n",
    "for metric, reading in evaluator.get_all_metrics().items():\n",
    "    print(f'{metric}\\t{reading}')"
   ]
  }
 ],
 "metadata": {
  "kernelspec": {
   "display_name": "Python 3",
   "language": "python",
   "name": "python3"
  },
  "language_info": {
   "codemirror_mode": {
    "name": "ipython",
    "version": 3
   },
   "file_extension": ".py",
   "mimetype": "text/x-python",
   "name": "python",
   "nbconvert_exporter": "python",
   "pygments_lexer": "ipython3",
   "version": "3.6.8"
  }
 },
 "nbformat": 4,
 "nbformat_minor": 2
}
